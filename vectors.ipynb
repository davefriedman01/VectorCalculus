{
 "cells": [
  {
   "attachments": {},
   "cell_type": "markdown",
   "metadata": {},
   "source": [
    "# Vectors"
   ]
  },
  {
   "attachments": {},
   "cell_type": "markdown",
   "metadata": {},
   "source": [
    "---"
   ]
  },
  {
   "attachments": {},
   "cell_type": "markdown",
   "metadata": {},
   "source": [
    "## What is a vector?"
   ]
  },
  {
   "attachments": {},
   "cell_type": "markdown",
   "metadata": {},
   "source": [
    "a change in position $\\lang a,b\\rang$\n",
    "\n",
    "a point $(a,b)\\in\\mathbb{R}^2$\n",
    "\n",
    "a list of numbers\n",
    "$\n",
    "\\begin{bmatrix}\n",
    "a&b\\\\\n",
    "\\end{bmatrix}\n",
    "$\n",
    "\n",
    "any object which has both (1) a magnitude (e.g., length) and (2) a direction\n",
    "\n",
    "visually, a vector looks like an arrow with (1) some length and (2) pointing in some direction\n",
    "\n",
    "Note that although a vector arrow looks like a ray, the vector arrow does not mean that the vector goes to infinity; it just represents the vector's direction."
   ]
  },
  {
   "attachments": {},
   "cell_type": "markdown",
   "metadata": {},
   "source": [
    "---"
   ]
  },
  {
   "attachments": {},
   "cell_type": "markdown",
   "metadata": {},
   "source": [
    "## Varieties of vectors"
   ]
  },
  {
   "attachments": {},
   "cell_type": "markdown",
   "metadata": {},
   "source": [
    "---"
   ]
  },
  {
   "attachments": {},
   "cell_type": "markdown",
   "metadata": {},
   "source": [
    "### Displacement Vector"
   ]
  },
  {
   "attachments": {},
   "cell_type": "markdown",
   "metadata": {},
   "source": [
    "A vector can represent the change in position or displacement from one point to another.\n",
    "\n",
    "Let $P=(x_0,y_0),Q=(x_1,y_1)\\in\\mathbb{R}^2$ be two points in Cartesian space.\n",
    "\n",
    "The displacement vector from $P$ to $Q$ can be calculated as\n",
    "\n",
    "$\\vec{PQ}=\\lang x_1-x_0,y_1-y_0\\rang$\n",
    "\n",
    "The displacement vector from $Q$ to $P$ is just\n",
    "\n",
    "$\\vec{QP}=-\\vec{PQ}=\\lang x_0-x_1,y_0-y_1\\rang$\n",
    "\n",
    "Note that any points $P,Q\\in\\mathbb{R}^2$ which satisfy\n",
    "\n",
    "$\n",
    "\\begin{aligned}\n",
    "x_1-x_0&=a\\\\\n",
    "y_1-y_0&=b\\\\\n",
    "\\end{aligned}\n",
    "$\n",
    "\n",
    "for some fixed $a,b$ represent the same displacement vector $\\lang a,b\\rang$.\n",
    "\n",
    "In other words, the location of a displacement vector does not matter. Two displacement vectors with the same length and direction are identical and indistinguishable."
   ]
  },
  {
   "attachments": {},
   "cell_type": "markdown",
   "metadata": {},
   "source": [
    "---"
   ]
  },
  {
   "attachments": {},
   "cell_type": "markdown",
   "metadata": {},
   "source": [
    "[EXAMPLE]\n",
    "\n",
    "$\n",
    "P=(2,4),Q=(5,8)\n",
    "\\implies\n",
    "\\vec{PQ}=\\lang5-2,8-4\\rang=\\lang3,4\\rang\n",
    "$\n",
    "\n",
    "$\n",
    "R=(-17,5),S=(-14,9)\n",
    "\\implies\n",
    "\\vec{RS}=\\lang-14-(-17),9-5\\rang=\\lang3,4\\rang\n",
    "$\n",
    "\n",
    "$\\vec{PQ}=\\lang3,4\\rang$ and $\\vec{RS}=\\lang3,4\\rang$ are the same displacement vector"
   ]
  },
  {
   "attachments": {},
   "cell_type": "markdown",
   "metadata": {},
   "source": [
    "---"
   ]
  },
  {
   "attachments": {},
   "cell_type": "markdown",
   "metadata": {},
   "source": [
    "### Position Vector"
   ]
  },
  {
   "attachments": {},
   "cell_type": "markdown",
   "metadata": {},
   "source": [
    "A vector can represent the position of a point.\n",
    "\n",
    "Let $P=(a,b)\\in\\mathbb{R}^2$ be a point in Cartesian space.\n",
    "\n",
    "The position vector $\\lang a-0,b-0\\rang=\\lang a,b\\rang$ is just the displacement vector from the origin $(0,0)$ to $P$.\n",
    "\n",
    "In other words, the position vector of a point $P=(a,b)\\in\\mathbb{R}^2$ is just $\\lang a,b\\rang$."
   ]
  },
  {
   "attachments": {},
   "cell_type": "markdown",
   "metadata": {},
   "source": [
    "---"
   ]
  },
  {
   "attachments": {},
   "cell_type": "markdown",
   "metadata": {},
   "source": [
    "### Tangent Vector"
   ]
  },
  {
   "attachments": {},
   "cell_type": "markdown",
   "metadata": {},
   "source": [
    "A vector can represent the direction of tangency at a certain point along a curve.\n",
    "\n",
    "The length/magnitude of a tangent vector may not be relevant, only its direction. In such cases, we use the unit tangent vector.\n",
    "\n",
    "Velocity is an example of a tangent vector: the velocity vector of an object is always tangent to the object's path of motion, and the length/magnitude of this vector is the object's speed."
   ]
  },
  {
   "attachments": {},
   "cell_type": "markdown",
   "metadata": {},
   "source": [
    "---"
   ]
  },
  {
   "attachments": {},
   "cell_type": "markdown",
   "metadata": {},
   "source": [
    "### Data/Information Vector"
   ]
  },
  {
   "attachments": {},
   "cell_type": "markdown",
   "metadata": {},
   "source": [
    "A vector can be used to collect data for the purposes of thinking about that data geometrically or mathematically."
   ]
  },
  {
   "attachments": {},
   "cell_type": "markdown",
   "metadata": {},
   "source": [
    "---"
   ]
  },
  {
   "attachments": {},
   "cell_type": "markdown",
   "metadata": {},
   "source": [
    "## Notation"
   ]
  },
  {
   "attachments": {},
   "cell_type": "markdown",
   "metadata": {},
   "source": [
    "A vector is denoted in the following ways.\n",
    "\n",
    "arrow\n",
    "\n",
    "$\\vec{v}$\n",
    "\n",
    "boldface\n",
    "\n",
    "$\\mathbf{v}$\n",
    "\n",
    "A vector $\\mathbf{v}\\in\\mathbb{R}^2$ represented in terms of its components can be written in the following ways.\n",
    "\n",
    "displacement vector\n",
    "\n",
    "$\\lang a,b\\rang$\n",
    "\n",
    "position vector\n",
    "\n",
    "$(a,b)$\n",
    "\n",
    "column vector\n",
    "\n",
    "$\n",
    "\\begin{bmatrix}\n",
    "a\\\\b\\\\\n",
    "\\end{bmatrix}\n",
    "$\n",
    "\n",
    "row vector\n",
    "\n",
    "$\n",
    "\\begin{bmatrix}\n",
    "a&b\\\\\n",
    "\\end{bmatrix}\n",
    "$"
   ]
  },
  {
   "attachments": {},
   "cell_type": "markdown",
   "metadata": {},
   "source": [
    "---"
   ]
  },
  {
   "attachments": {},
   "cell_type": "markdown",
   "metadata": {},
   "source": [
    "## Vector Operations"
   ]
  },
  {
   "attachments": {},
   "cell_type": "markdown",
   "metadata": {},
   "source": [
    "---"
   ]
  },
  {
   "attachments": {},
   "cell_type": "markdown",
   "metadata": {},
   "source": [
    "### Vector Addition"
   ]
  },
  {
   "attachments": {},
   "cell_type": "markdown",
   "metadata": {},
   "source": [
    "Geometrically\n",
    "\n",
    "tip to tail"
   ]
  },
  {
   "attachments": {},
   "cell_type": "markdown",
   "metadata": {},
   "source": [
    "Arithmetically, vector addition is calculated component-wise.\n",
    "\n",
    "$\n",
    "\\lang a,b\\rang+\\lang c,d\\rang\n",
    "=\\lang a+c,b+d\\rang\n",
    "$"
   ]
  },
  {
   "attachments": {},
   "cell_type": "markdown",
   "metadata": {},
   "source": [
    "---"
   ]
  },
  {
   "attachments": {},
   "cell_type": "markdown",
   "metadata": {},
   "source": [
    "### Scalar Multiplication"
   ]
  },
  {
   "attachments": {},
   "cell_type": "markdown",
   "metadata": {},
   "source": [
    "Geometrically\n",
    "\n",
    "scaling"
   ]
  },
  {
   "attachments": {},
   "cell_type": "markdown",
   "metadata": {},
   "source": [
    "Arithmetically, scalar multiplication is calculated by distribution.\n",
    "\n",
    "$\n",
    "\\mathbf{v}=\\lang a,b\\rang\n",
    "\\implies\n",
    "k\\mathbf{v}=k\\lang a,b\\rang=\\lang ka,kb\\rang\n",
    "$"
   ]
  },
  {
   "attachments": {},
   "cell_type": "markdown",
   "metadata": {},
   "source": [
    "Scalar multiplication can change the length of a vector, but cannot change its direction except in the case when $k\\lt0$ which orients the vector in the opposite direction."
   ]
  },
  {
   "attachments": {},
   "cell_type": "markdown",
   "metadata": {},
   "source": [
    "---"
   ]
  },
  {
   "attachments": {},
   "cell_type": "markdown",
   "metadata": {},
   "source": [
    "[EXAMPLE]\n",
    "\n",
    "$\n",
    "\\begin{aligned}\n",
    "&\\lang1,3\\rang+3\\lang-2,-1\\rang-2\\lang2,-5\\rang\\\\\n",
    "=&\\lang1,3\\rang+\\lang-6,-3\\rang+\\lang-4,10\\rang\\\\\n",
    "=&\\lang1-6-4,3-3+10\\rang\\\\\n",
    "=&\\lang-9,10\\rang\\\\\n",
    "\\end{aligned}\n",
    "$"
   ]
  },
  {
   "attachments": {},
   "cell_type": "markdown",
   "metadata": {},
   "source": [
    "---"
   ]
  },
  {
   "attachments": {},
   "cell_type": "markdown",
   "metadata": {},
   "source": [
    "## Vector Properties"
   ]
  },
  {
   "attachments": {},
   "cell_type": "markdown",
   "metadata": {},
   "source": [
    "---"
   ]
  },
  {
   "attachments": {},
   "cell_type": "markdown",
   "metadata": {},
   "source": [
    "### Vector Parallelism"
   ]
  },
  {
   "attachments": {},
   "cell_type": "markdown",
   "metadata": {},
   "source": [
    "Two vectors are parallel (and point in the same direction) if they are scalar multiples of each other.\n",
    "\n",
    "$\n",
    "\\mathbf{v}\\parallel\\mathbf{w}\n",
    "\\iff\n",
    "\\mathbf{v}=k\\mathbf{w}\\lor\\mathbf{w}=k\\mathbf{v}\n",
    "$\n",
    "\n",
    "Two vectors are anti parallel (i.e., parallel but pointing in opposite directions) if $k\\lt0$."
   ]
  },
  {
   "attachments": {},
   "cell_type": "markdown",
   "metadata": {},
   "source": [
    "---"
   ]
  },
  {
   "attachments": {},
   "cell_type": "markdown",
   "metadata": {},
   "source": [
    "### Vector Magnitude"
   ]
  },
  {
   "attachments": {},
   "cell_type": "markdown",
   "metadata": {},
   "source": [
    "The magnitude of a vector is calculated via the Pythagorean Theorem.\n",
    "\n",
    "Let $\\mathbf{v}$ be a vector.\n",
    "\n",
    "The magnitude of $\\mathbf{v}\\in\\mathbb{R}^2$ is\n",
    "\n",
    "$\n",
    "\\begin{aligned}\n",
    "\\|\\mathbf{v}\\|=\\|\\lang a,b\\rang\\|=\\sqrt{a^2+b^2}\n",
    "\\end{aligned}\n",
    "$\n",
    "\n",
    "The magnitude of $\\mathbf{v}\\in\\mathbb{R}^3$ is\n",
    "\n",
    "$\n",
    "\\begin{aligned}\n",
    "\\|\\mathbf{v}\\|=\\|\\lang a,b,c\\rang\\|=\\sqrt{a^2+b^2+c^2}\n",
    "\\end{aligned}\n",
    "$\n",
    "\n",
    "The magnitude of $\\mathbf{v}\\in\\mathbb{R}^n$ is\n",
    "\n",
    "$\n",
    "\\begin{aligned}\n",
    "\\|\\mathbf{v}\\|=\\|\\lang x_1,...,x_n\\rang\\|=\\sqrt{x_1^2+...+x_n^2}\n",
    "\\end{aligned}\n",
    "$"
   ]
  },
  {
   "attachments": {},
   "cell_type": "markdown",
   "metadata": {},
   "source": [
    "---"
   ]
  },
  {
   "attachments": {},
   "cell_type": "markdown",
   "metadata": {},
   "source": [
    "### Vector Direction and the Unit Vector"
   ]
  },
  {
   "attachments": {},
   "cell_type": "markdown",
   "metadata": {},
   "source": [
    "A vector whose magnitude is unity (i.e., whose length is one) is called a unit vector.\n",
    "\n",
    "A nonzero vector's direction is described by a parallel unit vector.\n",
    "\n",
    "To scale a nonzero vector to unity, scalar multiply it by one over its magnitude.\n",
    "\n",
    "Let $\\mathbf{v}$ be a vector.\n",
    "\n",
    "The unit vector $\\mathbf{\\hat{u}}$ of vector $\\mathbf{v}$ is\n",
    "\n",
    "$\n",
    "\\mathbf{\\hat{u}}=\n",
    "\\begin{aligned}\n",
    "\\frac{\\mathbf{v}}{\\|\\mathbf{v}\\|}\n",
    "\\end{aligned}\n",
    "$"
   ]
  },
  {
   "attachments": {},
   "cell_type": "markdown",
   "metadata": {},
   "source": [
    "---"
   ]
  },
  {
   "attachments": {},
   "cell_type": "markdown",
   "metadata": {},
   "source": [
    "### Standard Basis Vectors"
   ]
  },
  {
   "attachments": {},
   "cell_type": "markdown",
   "metadata": {},
   "source": [
    "The standard basis vectors are special unit vectors which together can describe any vector.\n",
    "\n",
    "Any vector $\\mathbf{v}\\in\\mathbb{R}^n$ can be written as a linear combination of the standard basis vectors"
   ]
  },
  {
   "attachments": {},
   "cell_type": "markdown",
   "metadata": {},
   "source": [
    "---"
   ]
  },
  {
   "attachments": {},
   "cell_type": "markdown",
   "metadata": {},
   "source": [
    "The standard basis in $\\mathbb{R}^2$ consists of\n",
    "\n",
    "$\n",
    "\\mathbf{\\hat{i}}=\\lang1,0\\rang\n",
    "$\n",
    "one unit in the $x$ direction\n",
    "\n",
    "$\n",
    "\\mathbf{\\hat{j}}=\\lang0,1\\rang\n",
    "$\n",
    "one unit in the $y$ direction\n",
    "\n",
    "Any vector $\\mathbf{v}\\in\\mathbb{R}^2=a\\mathbf{\\hat{i}}+b\\mathbf{\\hat{j}}$ for some $a,b\\in\\mathbb{R}$"
   ]
  },
  {
   "attachments": {},
   "cell_type": "markdown",
   "metadata": {},
   "source": [
    "---"
   ]
  },
  {
   "attachments": {},
   "cell_type": "markdown",
   "metadata": {},
   "source": [
    "[EXAMPLE]\n",
    "\n",
    "$\n",
    "\\begin{aligned}\n",
    "\\lang3,5\\rang\n",
    "=\\lang3,0\\rang+\\lang0,5\\rang\n",
    "=3\\lang1,0\\rang+5\\lang0,1\\rang\n",
    "=3\\mathbf{\\hat{i}}+5\\mathbf{\\hat{j}}\n",
    "\\end{aligned}\n",
    "$"
   ]
  },
  {
   "attachments": {},
   "cell_type": "markdown",
   "metadata": {},
   "source": [
    "---"
   ]
  },
  {
   "attachments": {},
   "cell_type": "markdown",
   "metadata": {},
   "source": [
    "The standard basis in $\\mathbb{R}^3$ consists of\n",
    "\n",
    "$\n",
    "\\mathbf{\\hat{i}}=\\lang1,0,0\\rang\n",
    "$\n",
    "one unit in the $x$ direction\n",
    "\n",
    "$\n",
    "\\mathbf{\\hat{j}}=\\lang0,1,0\\rang\n",
    "$\n",
    "one unit in the $y$ direction\n",
    "\n",
    "$\n",
    "\\mathbf{\\hat{k}}=\\lang0,0,1\\rang\n",
    "$\n",
    "one unit in the $z$ direction\n",
    "\n",
    "Any vector $\\mathbf{v}\\in\\mathbb{R}^3=a\\mathbf{\\hat{i}}+b\\mathbf{\\hat{j}}+c\\mathbf{\\hat{k}}$ for some $a,b,c\\in\\mathbb{R}$"
   ]
  },
  {
   "attachments": {},
   "cell_type": "markdown",
   "metadata": {},
   "source": [
    "---"
   ]
  },
  {
   "attachments": {},
   "cell_type": "markdown",
   "metadata": {},
   "source": [
    "Pythagorean Theorem in three dimensions\n",
    "\n",
    "Let $L=(a,b,c)$ be the line segment from the origin to the point $a$ units along the x-axis, $b$ units along the y-axis, and $c$ units along the z-axis.\n",
    "\n",
    "Let $d$ be the line segment in the xy-plane from the origin to the point $(a,b,0)$.\n",
    "\n",
    "$\n",
    "\\begin{aligned}\n",
    "L&=\\sqrt{c^2+d^2}\\\\\n",
    "d&=\\sqrt{a^2+b^2}\\\\\n",
    "\\end{aligned}\n",
    "\\implies\n",
    "L=\\sqrt{c^2+(\\sqrt{a^2+b^2})^2}=\\sqrt{a^2+b^2+c^2}\n",
    "$"
   ]
  },
  {
   "attachments": {},
   "cell_type": "markdown",
   "metadata": {},
   "source": [
    "---"
   ]
  },
  {
   "attachments": {},
   "cell_type": "markdown",
   "metadata": {},
   "source": [
    "## Resources"
   ]
  },
  {
   "attachments": {},
   "cell_type": "markdown",
   "metadata": {},
   "source": [
    "* Crowe, Michael J. _A History of Vector Analysis: The Evolution of the Idea of a Vectorial System_. Dover.\n",
    "* Morton, Jason. \"Linear Algebra\". <https://jasonmorton.github.io/LinearAlgebra/>.\n",
    "* https://github.com/engineersCode/EngComp4_landlinear"
   ]
  }
 ],
 "metadata": {
  "kernelspec": {
   "display_name": "Python 3",
   "language": "python",
   "name": "python3"
  },
  "language_info": {
   "name": "python",
   "version": "3.10.10"
  },
  "orig_nbformat": 4,
  "vscode": {
   "interpreter": {
    "hash": "b0fa6594d8f4cbf19f97940f81e996739fb7646882a419484c72d19e05852a7e"
   }
  }
 },
 "nbformat": 4,
 "nbformat_minor": 2
}
