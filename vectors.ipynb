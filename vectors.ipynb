{
 "cells": [
  {
   "attachments": {},
   "cell_type": "markdown",
   "metadata": {},
   "source": [
    "# Vectors"
   ]
  },
  {
   "attachments": {},
   "cell_type": "markdown",
   "metadata": {},
   "source": [
    "---"
   ]
  },
  {
   "attachments": {},
   "cell_type": "markdown",
   "metadata": {},
   "source": [
    "point $(a,b)$ in the xy-plane $\\mathbb{R}^2$\n",
    "\n",
    "What is a vector?\n",
    "* a list of numbers $\\lang a,b\\rang$\n",
    "* visually, a vector looks like an arrow\n",
    "* any object which has both (1) a magnitude (e.g., length) and (2) a direction\n",
    "\n",
    "Types of vectors\n",
    "* displacement vector\n",
    "* position vector\n",
    "* tangent vector\n",
    "* data vector"
   ]
  },
  {
   "attachments": {},
   "cell_type": "markdown",
   "metadata": {},
   "source": [
    "---"
   ]
  },
  {
   "attachments": {},
   "cell_type": "markdown",
   "metadata": {},
   "source": [
    "## Displacement Vector"
   ]
  },
  {
   "attachments": {},
   "cell_type": "markdown",
   "metadata": {},
   "source": [
    "Let $P=(x_0,y_0),Q=(x_1,y_1)\\in\\mathbb{R}^2$ be two points in Cartesian space.\n",
    "\n",
    "The displacement vector from $P$ to $Q$ can be calculated as\n",
    "\n",
    "$\\vec{PQ}=\\lang x_1-x_0,y_1-y_0\\rang$\n",
    "\n",
    "The displacement vector from $Q$ to $P$ is just\n",
    "\n",
    "$\\vec{QP}=-\\vec{PQ}=\\lang x_0-x_1,y_0-y_1\\rang$\n",
    "\n",
    "Note that any points $P,Q\\in\\mathbb{R}^2$ which satisfy\n",
    "\n",
    "$\n",
    "\\begin{aligned}\n",
    "x_1-x_0&=a\\\\\n",
    "y_1-y_0&=b\\\\\n",
    "\\end{aligned}\n",
    "$\n",
    "\n",
    "for some fixed $a,b$ represent the same displacement vector $\\lang a,b\\rang$.\n",
    "\n",
    "For example,\n",
    "\n",
    "$\n",
    "P=(2,4),Q=(5,8)\n",
    "\\implies\n",
    "\\vec{PQ}=\\lang5-2,8-4\\rang=\\lang3,4\\rang\n",
    "$\n",
    "\n",
    "$\n",
    "R=(-17,5),S=(-14,9)\n",
    "\\implies\n",
    "\\vec{RS}=\\lang-14-(-17),9-5\\rang=\\lang3,4\\rang\n",
    "$\n",
    "\n",
    "$\\vec{PQ}=\\lang3,4\\rang$ and $\\vec{RS}=\\lang3,4\\rang$ are the same displacement vector"
   ]
  },
  {
   "attachments": {},
   "cell_type": "markdown",
   "metadata": {},
   "source": [
    "---"
   ]
  },
  {
   "attachments": {},
   "cell_type": "markdown",
   "metadata": {},
   "source": [
    "## Position Vector"
   ]
  },
  {
   "attachments": {},
   "cell_type": "markdown",
   "metadata": {},
   "source": [
    "Let $P=(a,b)\\in\\mathbb{R}^2$ be a point in Cartesian space.\n",
    "\n",
    "The position vector $\\lang a-0,b-0\\rang=\\lang a,b\\rang$ is just the displacement vector from the origin $(0,0)$ to $P$.\n",
    "\n",
    "In other words, the position vector of a point $P=(a,b)\\in\\mathbb{R}^2$ is just $\\lang a,b\\rang$."
   ]
  },
  {
   "attachments": {},
   "cell_type": "markdown",
   "metadata": {},
   "source": [
    "---"
   ]
  },
  {
   "attachments": {},
   "cell_type": "markdown",
   "metadata": {},
   "source": [
    "## Notation"
   ]
  },
  {
   "attachments": {},
   "cell_type": "markdown",
   "metadata": {},
   "source": [
    "The symbol that represents a vector can be written in the following ways.\n",
    "\n",
    "arrow\n",
    "\n",
    "$\\vec{v}$\n",
    "\n",
    "boldface\n",
    "\n",
    "$\\mathbf{v}$\n",
    "\n",
    "A vector $\\mathbf{v}\\in\\mathbb{R}^2$ represented in terms of its components can be written in the following ways.\n",
    "\n",
    "$\\lang a,b\\rang$\n",
    "\n",
    "column vector\n",
    "\n",
    "$\n",
    "\\begin{bmatrix}\n",
    "a\\\\b\\\\\n",
    "\\end{bmatrix}\n",
    "$\n",
    "\n",
    "row vector\n",
    "\n",
    "$\n",
    "\\begin{bmatrix}\n",
    "a&b\\\\\n",
    "\\end{bmatrix}\n",
    "$"
   ]
  },
  {
   "attachments": {},
   "cell_type": "markdown",
   "metadata": {},
   "source": [
    "---"
   ]
  },
  {
   "attachments": {},
   "cell_type": "markdown",
   "metadata": {},
   "source": [
    "## Vector Operations"
   ]
  },
  {
   "attachments": {},
   "cell_type": "markdown",
   "metadata": {},
   "source": [
    "### Vector Addition"
   ]
  },
  {
   "attachments": {},
   "cell_type": "markdown",
   "metadata": {},
   "source": [
    "Geometrically\n",
    "\n",
    "tip to tail"
   ]
  },
  {
   "attachments": {},
   "cell_type": "markdown",
   "metadata": {},
   "source": [
    "Arithmetically\n",
    "\n",
    "$\n",
    "\\lang a,b\\rang+\\lang c,d\\rang\n",
    "=\\lang a+c,b+d\\rang\n",
    "$"
   ]
  },
  {
   "attachments": {},
   "cell_type": "markdown",
   "metadata": {},
   "source": [
    "### Scalar Multiplication"
   ]
  },
  {
   "attachments": {},
   "cell_type": "markdown",
   "metadata": {},
   "source": [
    "Geometrically\n",
    "\n",
    "scaling"
   ]
  },
  {
   "attachments": {},
   "cell_type": "markdown",
   "metadata": {},
   "source": [
    "Arithmetically\n",
    "\n",
    "$\n",
    "\\mathbf{v}=\\lang a,b\\rang\n",
    "\\implies\n",
    "k\\mathbf{v}=\\lang ka,kb\\rang\n",
    "$"
   ]
  },
  {
   "attachments": {},
   "cell_type": "markdown",
   "metadata": {},
   "source": [
    "Scalar multiplication can change the length of a vector, but cannot change its direction except in the case when $k\\lt0$ which orients the vector in the opposite direction."
   ]
  },
  {
   "attachments": {},
   "cell_type": "markdown",
   "metadata": {},
   "source": [
    "---"
   ]
  },
  {
   "attachments": {},
   "cell_type": "markdown",
   "metadata": {},
   "source": [
    "## Vector Properties"
   ]
  },
  {
   "attachments": {},
   "cell_type": "markdown",
   "metadata": {},
   "source": [
    "### Vector Parallelism"
   ]
  },
  {
   "attachments": {},
   "cell_type": "markdown",
   "metadata": {},
   "source": [
    "Two vectors are parallel (and point in the same direction) if they are scalar multiples of each other.\n",
    "\n",
    "$\n",
    "\\mathbf{v}\\parallel\\mathbf{w}\n",
    "\\iff\n",
    "\\mathbf{v}=k\\mathbf{w}\\lor\\mathbf{w}=k\\mathbf{v}\n",
    "$\n",
    "\n",
    "Two vectors are anti parallel (i.e., parallel but pointing in opposite directions) if $k\\lt0$."
   ]
  },
  {
   "attachments": {},
   "cell_type": "markdown",
   "metadata": {},
   "source": [
    "### Vector Magnitude"
   ]
  },
  {
   "attachments": {},
   "cell_type": "markdown",
   "metadata": {},
   "source": [
    "Let $\\mathbf{v}=\\lang a,b\\rang\\in\\mathbb{R}^2$ be a vector.\n",
    "\n",
    "The magnitude of $\\mathbf{v}$ is\n",
    "\n",
    "$\n",
    "\\begin{aligned}\n",
    "\\|\\mathbf{v}\\|=\\sqrt{a^2+b^2}\n",
    "\\end{aligned}\n",
    "$\n",
    "\n",
    "(Pythagorean Theorem)"
   ]
  },
  {
   "attachments": {},
   "cell_type": "markdown",
   "metadata": {},
   "source": [
    "### Vector Direction"
   ]
  },
  {
   "attachments": {},
   "cell_type": "markdown",
   "metadata": {},
   "source": [
    "A vector's direction is described by a parallel unit vector--a vector whose magnitude is unity. To scale a vector to a length of one, scalar multiply it by one over its magnitude.\n",
    "\n",
    "Let $\\mathbf{v}$ be a vector.\n",
    "\n",
    "The unit vector $\\mathbf{\\hat{u}}$ of vector $\\mathbf{v}$ is\n",
    "\n",
    "$\n",
    "\\mathbf{\\hat{u}}=\n",
    "\\begin{aligned}\n",
    "\\frac{\\mathbf{v}}{\\|\\mathbf{v}\\|}\n",
    "\\end{aligned}\n",
    "$"
   ]
  },
  {
   "attachments": {},
   "cell_type": "markdown",
   "metadata": {},
   "source": [
    "### Standard Basis Vectors"
   ]
  },
  {
   "attachments": {},
   "cell_type": "markdown",
   "metadata": {},
   "source": [
    "Standard basis vectors are special unit vectors."
   ]
  },
  {
   "attachments": {},
   "cell_type": "markdown",
   "metadata": {},
   "source": [
    "$\\mathbb{R}^2$\n",
    "\n",
    "$\n",
    "\\mathbf{\\hat{i}}=\\lang1,0\\rang\n",
    "$\n",
    "one unit in the $x$ direction\n",
    "\n",
    "$\n",
    "\\mathbf{\\hat{j}}=\\lang0,1\\rang\n",
    "$\n",
    "one unit in the $y$ direction"
   ]
  },
  {
   "attachments": {},
   "cell_type": "markdown",
   "metadata": {},
   "source": [
    "[EXAMPLE]\n",
    "\n",
    "$\n",
    "\\begin{aligned}\n",
    "\\lang3,5\\rang\n",
    "=\\lang3,0\\rang+\\lang0,5\\rang\n",
    "=3\\lang1,0\\rang+5\\lang0,1\\rang\n",
    "=3\\mathbf{\\hat{i}}+5\\mathbf{\\hat{j}}\n",
    "\\end{aligned}\n",
    "$"
   ]
  },
  {
   "attachments": {},
   "cell_type": "markdown",
   "metadata": {},
   "source": [
    "$\\mathbb{R}^3$\n",
    "\n",
    "$\n",
    "\\mathbf{\\hat{i}}=\\lang1,0,0\\rang\n",
    "$\n",
    "one unit in the $x$ direction\n",
    "\n",
    "$\n",
    "\\mathbf{\\hat{j}}=\\lang0,1,0\\rang\n",
    "$\n",
    "one unit in the $y$ direction\n",
    "\n",
    "$\n",
    "\\mathbf{\\hat{k}}=\\lang0,0,1\\rang\n",
    "$\n",
    "one unit in the $z$ direction"
   ]
  },
  {
   "attachments": {},
   "cell_type": "markdown",
   "metadata": {},
   "source": [
    "---"
   ]
  },
  {
   "attachments": {},
   "cell_type": "markdown",
   "metadata": {},
   "source": [
    "## Resources"
   ]
  },
  {
   "attachments": {},
   "cell_type": "markdown",
   "metadata": {},
   "source": [
    "* Crowe, Michael J. _A History of Vector Analysis: The Evolution of the Idea of a Vectorial System_. Dover.\n",
    "* Morton, Jason. \"Linear Algebra\". <https://jasonmorton.github.io/LinearAlgebra/>.\n",
    "* https://github.com/engineersCode/EngComp4_landlinear"
   ]
  }
 ],
 "metadata": {
  "language_info": {
   "name": "python"
  },
  "orig_nbformat": 4
 },
 "nbformat": 4,
 "nbformat_minor": 2
}
