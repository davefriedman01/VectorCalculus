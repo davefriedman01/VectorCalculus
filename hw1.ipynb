{
 "cells": [
  {
   "attachments": {},
   "cell_type": "markdown",
   "metadata": {},
   "source": [
    "# HW1"
   ]
  },
  {
   "attachments": {},
   "cell_type": "markdown",
   "metadata": {},
   "source": [
    "---"
   ]
  },
  {
   "cell_type": "code",
   "execution_count": 1,
   "metadata": {},
   "outputs": [],
   "source": [
    "import numpy as np"
   ]
  },
  {
   "attachments": {},
   "cell_type": "markdown",
   "metadata": {},
   "source": [
    "---"
   ]
  },
  {
   "attachments": {},
   "cell_type": "markdown",
   "metadata": {},
   "source": [
    "[1A]\n",
    "\n",
    "SOLUTION\n",
    "\n",
    "$\n",
    "\\begin{aligned}\n",
    "16.3863\n",
    "\\approx\n",
    "\\int_1^4\\sqrt{4+\\frac{1}{x^2}+4x^2}\\,dx\n",
    "\\end{aligned}\n",
    "$\n",
    "\n",
    "PROBLEM\n",
    "\n",
    "$\n",
    "\\begin{aligned}\n",
    "\\int_1^4\\sqrt{4+\\frac{1}{x^2}+4x^2}\\,dx\n",
    "&=\\int_1^4\\sqrt{4x^2+4+\\frac{1}{x^2}}\\,dx\\\\\n",
    "&=\\int_1^4\\sqrt{(2x)^2+2x\\frac{1}{x}+2x\\frac{1}{x}+\\left(\\frac{1}{x}\\right)^2}\\,dx\\\\\n",
    "&=\\int_1^4\\sqrt{\\left(2x+\\frac{1}{x}\\right)\\left(2x+\\frac{1}{x}\\right)}\\,dx\\\\\n",
    "&=\\int_1^4\\sqrt{\\left(2x+\\frac{1}{x}\\right)^2}\\,dx\\\\\n",
    "&=\\int_1^4\\left(2x+\\frac{1}{x}\\right)\\,dx\\\\\n",
    "&=2\\int_1^4x\\,dx+\\int_1^4\\frac{1}{x}\\,dx\\\\\n",
    "&=x^2\\Big|_1^4+\\ln(|x|)\\Big|_1^4\\\\\n",
    "&=15+\\ln(4)\\\\\n",
    "&\\approx16.3863\\\\\n",
    "\\end{aligned}\n",
    "$"
   ]
  },
  {
   "cell_type": "code",
   "execution_count": 4,
   "metadata": {},
   "outputs": [
    {
     "data": {
      "text/plain": [
       "16.38629436111989"
      ]
     },
     "execution_count": 4,
     "metadata": {},
     "output_type": "execute_result"
    }
   ],
   "source": [
    "15+np.log(4)"
   ]
  },
  {
   "attachments": {},
   "cell_type": "markdown",
   "metadata": {},
   "source": [
    "```\n",
    "[1A]\n",
    "\n",
    "SOLUTION\n",
    "\n",
    "$\n",
    "\\begin{aligned}\n",
    "16.3863\n",
    "\\approx\n",
    "\\int_1^4\\sqrt{4+\\frac{1}{x^2}+4x^2}\\,dx\n",
    "\\end{aligned}\n",
    "$\n",
    "\n",
    "PROBLEM\n",
    "\n",
    "$\n",
    "\\begin{aligned}\n",
    "\\int_1^4\\sqrt{4+\\frac{1}{x^2}+4x^2}\\,dx\n",
    "&=\\int_1^4\\sqrt{4x^2+4+\\frac{1}{x^2}}\\,dx\\\\\n",
    "&=\\int_1^4\\sqrt{(2x)^2+2x\\frac{1}{x}+2x\\frac{1}{x}+\\left(\\frac{1}{x}\\right)^2}\\,dx\\\\\n",
    "&=\\int_1^4\\sqrt{\\left(2x+\\frac{1}{x}\\right)\\left(2x+\\frac{1}{x}\\right)}\\,dx\\\\\n",
    "&=\\int_1^4\\sqrt{\\left(2x+\\frac{1}{x}\\right)^2}\\,dx\\\\\n",
    "&=\\int_1^4\\left(2x+\\frac{1}{x}\\right)\\,dx\\\\\n",
    "&=2\\int_1^4x\\,dx+\\int_1^4\\frac{1}{x}\\,dx\\\\\n",
    "&=x^2\\Big|_1^4+\\ln(|x|)\\Big|_1^4\\\\\n",
    "&=15+\\ln(4)\\\\\n",
    "&\\approx16.3863\\\\\n",
    "\\end{aligned}\n",
    "$\n",
    "```"
   ]
  },
  {
   "attachments": {},
   "cell_type": "markdown",
   "metadata": {},
   "source": [
    "---"
   ]
  },
  {
   "attachments": {},
   "cell_type": "markdown",
   "metadata": {},
   "source": [
    "[1B]\n",
    "\n",
    "SOLUTION\n",
    "\n",
    "$\n",
    "\\begin{aligned}\n",
    "0.6095\n",
    "\\approx\n",
    "\\int_0^1\\sqrt{t^2+t^4}\\,dt\n",
    "\\end{aligned}\n",
    "$\n",
    "\n",
    "PROBLEM\n",
    "\n",
    "$\n",
    "\\begin{aligned}\n",
    "\\int_0^1\\sqrt{t^2+t^4}\\,dt\n",
    "&=\\int_0^1\\sqrt{t^2(1+t^2)}\\,dt\n",
    "&=\\int_0^1t\\sqrt{1+t^2}\\,dt\\\\\n",
    "\\end{aligned}\n",
    "$\n",
    "\n",
    "$\n",
    "u=t^2+1\\implies du=2t\\,dt\\implies\\frac{du}{2t}=dt\n",
    "$\n",
    "\n",
    "$t=0\\implies u=(0)^2+1=1$\n",
    "\n",
    "$t=1\\implies u=(1)^2+1=2$\n",
    "\n",
    "$\n",
    "\\begin{aligned}\n",
    "=\\int_1^2t\\sqrt{u}\\frac{du}{2t}\n",
    "&=\\int_1^2\\frac{t}{2t}\\sqrt{u}\\,du\\\\\n",
    "&=\\frac{1}{2}\\int_1^2\\sqrt{u}\\,du\\\\\n",
    "&=\\frac{1}{3}u^\\frac{3}{2}\\Big|_1^2\\\\\n",
    "&=\\frac{1}{3}2^\\frac{3}{2}-\\frac{1}{3}\\\\\n",
    "&\\approx0.6095\\\\\n",
    "\\end{aligned}\n",
    "$"
   ]
  },
  {
   "cell_type": "code",
   "execution_count": 8,
   "metadata": {},
   "outputs": [
    {
     "data": {
      "text/plain": [
       "0.6094757082487301"
      ]
     },
     "execution_count": 8,
     "metadata": {},
     "output_type": "execute_result"
    }
   ],
   "source": [
    "(np.sqrt(8)-1)/3"
   ]
  },
  {
   "attachments": {},
   "cell_type": "markdown",
   "metadata": {},
   "source": [
    "```\n",
    "[1B]\n",
    "\n",
    "SOLUTION\n",
    "\n",
    "$\n",
    "\\begin{aligned}\n",
    "0.6095\n",
    "\\approx\n",
    "\\int_0^1\\sqrt{t^2+t^4}\\,dt\n",
    "\\end{aligned}\n",
    "$\n",
    "\n",
    "PROBLEM\n",
    "\n",
    "$\n",
    "\\begin{aligned}\n",
    "\\int_0^1\\sqrt{t^2+t^4}\\,dt\n",
    "&=\\int_0^1\\sqrt{t^2(1+t^2)}\\,dt\n",
    "&=\\int_0^1t\\sqrt{1+t^2}\\,dt\\\\\n",
    "\\end{aligned}\n",
    "$\n",
    "\n",
    "$\n",
    "u=t^2+1\\implies du=2t\\,dt\\implies\\frac{du}{2t}=dt\n",
    "$\n",
    "\n",
    "$t=0\\implies u=(0)^2+1=1$\n",
    "\n",
    "$t=1\\implies u=(1)^2+1=2$\n",
    "\n",
    "$\n",
    "\\begin{aligned}\n",
    "=\\int_1^2t\\sqrt{u}\\frac{du}{2t}\n",
    "&=\\int_1^2\\frac{t}{2t}\\sqrt{u}\\,du\\\\\n",
    "&=\\frac{1}{2}\\int_1^2\\sqrt{u}\\,du\\\\\n",
    "&=\\frac{1}{3}u^\\frac{3}{2}\\Big|_1^2\\\\\n",
    "&=\\frac{1}{3}2^\\frac{3}{2}-\\frac{1}{3}\\\\\n",
    "&\\approx0.6095\\\\\n",
    "\\end{aligned}\n",
    "$\n",
    "```"
   ]
  },
  {
   "attachments": {},
   "cell_type": "markdown",
   "metadata": {},
   "source": [
    "---"
   ]
  },
  {
   "attachments": {},
   "cell_type": "markdown",
   "metadata": {},
   "source": [
    "[1C]\n",
    "\n",
    "SOLUTION\n",
    "\n",
    "$\n",
    "\\begin{aligned}\n",
    "\\pi=\\int_0^{2\\pi}\\cos^2(\\theta)\\,d\\theta\n",
    "\\end{aligned}\n",
    "$\n",
    "\n",
    "PROBLEM\n",
    "\n",
    "$\n",
    "\\begin{aligned}\n",
    "\\int_0^{2\\pi}\\cos^2(\\theta)\\,d\\theta\\,\\,\\,\\text{where}\\,\\,\\,\\cos^2(\\theta)=\\frac{\\cos(2\\theta)+1}{2}\n",
    "\\end{aligned}\n",
    "$\n",
    "\n",
    "$\n",
    "\\begin{aligned}\n",
    "=\\int_0^{2\\pi}\\frac{\\cos(2\\theta)+1}{2}\\,d\\theta\n",
    "&=\\frac{1}{2}\\int_0^{2\\pi}(\\cos(2\\theta)+1)\\,d\\theta\\\\\n",
    "&=\\frac{1}{2}\\int_0^{2\\pi}\\cos(2\\theta)\\,d\\theta+\\frac{1}{2}\\int_0^{2\\pi}1\\,d\\theta\\\\\n",
    "\\end{aligned}\n",
    "$\n",
    "\n",
    "$u=2\\theta\\implies du=2\\,d\\theta\\implies\\frac{du}{2}=d\\theta$\n",
    "\n",
    "$\\theta=0\\implies u=2(0)=0$\n",
    "\n",
    "$\\theta=2\\pi\\implies u=2(2\\pi)=4\\pi$\n",
    "\n",
    "$\n",
    "\\begin{aligned}\n",
    "=\\frac{1}{2}\\int_0^{4\\pi}\\cos(u)\\frac{du}{2}+\\frac{1}{2}\\int_0^{4\\pi}\\frac{du}{2}\n",
    "&=\\frac{1}{4}\\int_0^{4\\pi}\\cos(u)\\,du+\\frac{1}{4}\\int_0^{4\\pi}\\,du\\\\\n",
    "&=\\frac{1}{4}\\sin(u)\\Big|_0^{4\\pi}+\\frac{1}{4}u\\Big|_0^{4\\pi}\\\\\n",
    "&=\\pi\\\\\n",
    "\\end{aligned}\n",
    "$"
   ]
  },
  {
   "attachments": {},
   "cell_type": "markdown",
   "metadata": {},
   "source": [
    "```\n",
    "[1C]\n",
    "\n",
    "SOLUTION\n",
    "\n",
    "$\n",
    "\\begin{aligned}\n",
    "\\pi=\\int_0^{2\\pi}\\cos^2(\\theta)\\,d\\theta\n",
    "\\end{aligned}\n",
    "$\n",
    "\n",
    "PROBLEM\n",
    "\n",
    "$\n",
    "\\begin{aligned}\n",
    "\\int_0^{2\\pi}\\cos^2(\\theta)\\,d\\theta\\,\\,\\,\\text{where}\\,\\,\\,\\cos^2(\\theta)=\\frac{\\cos(2\\theta)+1}{2}\n",
    "\\end{aligned}\n",
    "$\n",
    "\n",
    "$\n",
    "\\begin{aligned}\n",
    "=\\int_0^{2\\pi}\\frac{\\cos(2\\theta)+1}{2}\\,d\\theta\n",
    "&=\\frac{1}{2}\\int_0^{2\\pi}(\\cos(2\\theta)+1)\\,d\\theta\\\\\n",
    "&=\\frac{1}{2}\\int_0^{2\\pi}\\cos(2\\theta)\\,d\\theta+\\frac{1}{2}\\int_0^{2\\pi}1\\,d\\theta\\\\\n",
    "\\end{aligned}\n",
    "$\n",
    "\n",
    "$u=2\\theta\\implies du=2\\,d\\theta\\implies\\frac{du}{2}=d\\theta$\n",
    "\n",
    "$\\theta=0\\implies u=2(0)=0$\n",
    "\n",
    "$\\theta=2\\pi\\implies u=2(2\\pi)=4\\pi$\n",
    "\n",
    "$\n",
    "\\begin{aligned}\n",
    "=\\frac{1}{2}\\int_0^{4\\pi}\\cos(u)\\frac{du}{2}+\\frac{1}{2}\\int_0^{4\\pi}\\frac{du}{2}\n",
    "&=\\frac{1}{4}\\int_0^{4\\pi}\\cos(u)\\,du+\\frac{1}{4}\\int_0^{4\\pi}\\,du\\\\\n",
    "&=\\frac{1}{4}\\sin(u)\\Big|_0^{4\\pi}+\\frac{1}{4}u\\Big|_0^{4\\pi}\\\\\n",
    "&=\\pi\\\\\n",
    "\\end{aligned}\n",
    "$\n",
    "```"
   ]
  },
  {
   "attachments": {},
   "cell_type": "markdown",
   "metadata": {},
   "source": [
    "---\n"
   ]
  },
  {
   "attachments": {},
   "cell_type": "markdown",
   "metadata": {},
   "source": [
    "[1D]\n",
    "\n",
    "SOLUTION\n",
    "\n",
    "$\n",
    "\\begin{aligned}\n",
    "\\frac{2}{3}\n",
    "=\\int_0^\\frac{\\pi}{2}\\sin^3(x)\\,dx\n",
    "\\end{aligned}\n",
    "$\n",
    "\n",
    "PROBLEM\n",
    "\n",
    "$\n",
    "\\begin{aligned}\n",
    "\\int_0^\\frac{\\pi}{2}\\sin^3(x)\\,dx\n",
    "&=\\int_0^\\frac{\\pi}{2}\\sin^2(x)\\sin(x)\\,dx\\,\\,\\,\\text{where}\\,\\,\\,\\sin^2(x)=1-\\cos^2(x)\\\\\n",
    "&=\\int_0^\\frac{\\pi}{2}(1-\\cos^2(x))\\sin(x)\\,dx\n",
    "\\end{aligned}\n",
    "$\n",
    "\n",
    "$u=\\cos(x)\\implies du=-\\sin(x)\\,dx\\implies-\\frac{du}{\\sin(x)}=dx$\n",
    "\n",
    "$x=0\\implies u=\\cos(0)=1$\n",
    "\n",
    "$x=\\frac{\\pi}{2}\\implies u=\\cos(\\frac{\\pi}{2})=0$\n",
    "\n",
    "$\n",
    "\\begin{aligned}\n",
    "=\\int_1^0(1-u^2)\\sin(x)\\left(-\\frac{du}{\\sin(x)}\\right)\n",
    "&=\\int_1^0(u^2-1)\\,du\\\\\n",
    "&=\\int_1^0u^2\\,du-\\int_1^01\\,du\\\\\n",
    "&=\\frac{1}{3}u^3\\Big|_1^0-u\\Big|_1^0\\\\\n",
    "&=\\frac{2}{3}\n",
    "\\end{aligned}\n",
    "$"
   ]
  },
  {
   "attachments": {},
   "cell_type": "markdown",
   "metadata": {},
   "source": [
    "```\n",
    "[1D]\n",
    "\n",
    "SOLUTION\n",
    "\n",
    "$\n",
    "\\begin{aligned}\n",
    "\\frac{2}{3}\n",
    "=\\int_0^\\frac{\\pi}{2}\\sin^3(x)\\,dx\n",
    "\\end{aligned}\n",
    "$\n",
    "\n",
    "PROBLEM\n",
    "\n",
    "$\n",
    "\\begin{aligned}\n",
    "\\int_0^\\frac{\\pi}{2}\\sin^3(x)\\,dx\n",
    "&=\\int_0^\\frac{\\pi}{2}\\sin^2(x)\\sin(x)\\,dx\\,\\,\\,\\text{where}\\,\\,\\,\\sin^2(x)=1-\\cos^2(x)\\\\\n",
    "&=\\int_0^\\frac{\\pi}{2}(1-\\cos^2(x))\\sin(x)\\,dx\n",
    "\\end{aligned}\n",
    "$\n",
    "\n",
    "$u=\\cos(x)\\implies du=-\\sin(x)\\,dx\\implies-\\frac{du}{\\sin(x)}=dx$\n",
    "\n",
    "$x=0\\implies u=\\cos(0)=1$\n",
    "\n",
    "$x=\\frac{\\pi}{2}\\implies u=\\cos(\\frac{\\pi}{2})=0$\n",
    "\n",
    "$\n",
    "\\begin{aligned}\n",
    "=\\int_1^0(1-u^2)\\sin(x)\\left(-\\frac{du}{\\sin(x)}\\right)\n",
    "&=\\int_1^0(u^2-1)\\,du\\\\\n",
    "&=\\int_1^0u^2\\,du-\\int_1^01\\,du\\\\\n",
    "&=\\frac{1}{3}u^3\\Big|_1^0-u\\Big|_1^0\\\\\n",
    "&=\\frac{2}{3}\n",
    "\\end{aligned}\n",
    "$\n",
    "```"
   ]
  }
 ],
 "metadata": {
  "kernelspec": {
   "display_name": "main",
   "language": "python",
   "name": "python3"
  },
  "language_info": {
   "codemirror_mode": {
    "name": "ipython",
    "version": 3
   },
   "file_extension": ".py",
   "mimetype": "text/x-python",
   "name": "python",
   "nbconvert_exporter": "python",
   "pygments_lexer": "ipython3",
   "version": "3.10.8"
  },
  "orig_nbformat": 4,
  "vscode": {
   "interpreter": {
    "hash": "7934a2e895ecf0f9e222ea9c67d2028800f311cc59efafcc0f7e737f99c61e05"
   }
  }
 },
 "nbformat": 4,
 "nbformat_minor": 2
}
