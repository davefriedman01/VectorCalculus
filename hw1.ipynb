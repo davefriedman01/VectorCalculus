{
 "cells": [
  {
   "attachments": {},
   "cell_type": "markdown",
   "metadata": {},
   "source": [
    "# HW1"
   ]
  },
  {
   "attachments": {},
   "cell_type": "markdown",
   "metadata": {},
   "source": [
    "---"
   ]
  },
  {
   "cell_type": "code",
   "execution_count": 9,
   "metadata": {},
   "outputs": [
    {
     "name": "stdout",
     "output_type": "stream",
     "text": [
      "EXECUTED            : 2023-02-05 22:42:36.313860\n",
      "\n",
      "Platform            : 13.1 | Darwin | 22.2.0 | arm64\n",
      "                    : UTF-8\n",
      "\n",
      "Python              : 3.10.8 | packaged by conda-forge | (main, Nov 22 2022, 08:25:29) [Clang 14.0.6 ]\n",
      "                    : sys.version_info(major=3, minor=10, micro=8, releaselevel='final', serial=0)\n",
      "                    : CPython\n",
      "\n",
      "Matplotlib          : 3.6.3\n",
      "Numexpr             : 2.8.3\n",
      "NumPy               : 1.24.1\n",
      "Pandas              : 1.5.3\n",
      "SymPy               : 1.11.1\n"
     ]
    }
   ],
   "source": [
    "import numpy                    as np\n",
    "import numpy.random             as npr\n",
    "import pandas                   as pd\n",
    "\n",
    "import matplotlib               as mpl\n",
    "import matplotlib.pyplot        as plt\n",
    "plt.style.use('ggplot');\n",
    "\n",
    "import sympy                    as sy\n",
    "from   sympy.geometry import Point, Line\n",
    "\n",
    "import numexpr\n",
    "\n",
    "from   datetime import datetime as d\n",
    "import locale                   as l\n",
    "import platform                 as p\n",
    "import sys                      as s\n",
    "\n",
    "pad = 20\n",
    "print(f\"{'Executed'.upper():<{pad}}: {d.now()}\")\n",
    "print()\n",
    "print(f\"{'Platform'        :<{pad}}: \"\n",
    "      f\"{p.mac_ver()[0]} | \"\n",
    "      f\"{p.system()} | \"\n",
    "      f\"{p.release()} | \"\n",
    "      f\"{p.machine()}\")\n",
    "print(f\"{''                :<{pad}}: {l.getpreferredencoding()}\")\n",
    "print()\n",
    "print(f\"{'Python'          :<{pad}}: {s.version}\")\n",
    "print(f\"{''                :<{pad}}: {s.version_info}\")\n",
    "print(f\"{''                :<{pad}}: {p.python_implementation()}\")\n",
    "print()\n",
    "print(f\"{'Matplotlib'      :<{pad}}: {mpl.__version__}\")\n",
    "print(f\"{'Numexpr'         :<{pad}}: {numexpr.__version__}\")\n",
    "print(f\"{'NumPy'           :<{pad}}: {np.__version__}\")\n",
    "print(f\"{'Pandas'          :<{pad}}: {pd.__version__}\")\n",
    "print(f\"{'SymPy'           :<{pad}}: {sy.__version__}\")"
   ]
  },
  {
   "attachments": {},
   "cell_type": "markdown",
   "metadata": {},
   "source": [
    "---"
   ]
  },
  {
   "attachments": {},
   "cell_type": "markdown",
   "metadata": {},
   "source": [
    "[1A]\n",
    "\n",
    "SOLUTION\n",
    "\n",
    "$\n",
    "\\begin{aligned}\n",
    "16.3863\n",
    "\\approx\n",
    "\\int_1^4\\sqrt{4+\\frac{1}{x^2}+4x^2}\\,dx\n",
    "\\end{aligned}\n",
    "$\n",
    "\n",
    "PROBLEM\n",
    "\n",
    "$\n",
    "\\begin{aligned}\n",
    "\\int_1^4\\sqrt{4+\\frac{1}{x^2}+4x^2}\\,dx\n",
    "&=\\int_1^4\\sqrt{4x^2+4+\\frac{1}{x^2}}\\,dx\\\\\n",
    "&=\\int_1^4\\sqrt{(2x)^2+2x\\frac{1}{x}+2x\\frac{1}{x}+\\left(\\frac{1}{x}\\right)^2}\\,dx\\\\\n",
    "&=\\int_1^4\\sqrt{\\left(2x+\\frac{1}{x}\\right)\\left(2x+\\frac{1}{x}\\right)}\\,dx\\\\\n",
    "&=\\int_1^4\\sqrt{\\left(2x+\\frac{1}{x}\\right)^2}\\,dx\\\\\n",
    "&=\\int_1^4\\left(2x+\\frac{1}{x}\\right)\\,dx\\\\\n",
    "&=2\\int_1^4x\\,dx+\\int_1^4\\frac{1}{x}\\,dx\\\\\n",
    "&=x^2\\Big|_1^4+\\ln(|x|)\\Big|_1^4\\\\\n",
    "&=15+\\ln(4)\\\\\n",
    "&\\approx16.3863\\\\\n",
    "\\end{aligned}\n",
    "$"
   ]
  },
  {
   "cell_type": "code",
   "execution_count": 4,
   "metadata": {},
   "outputs": [
    {
     "data": {
      "text/plain": [
       "16.38629436111989"
      ]
     },
     "execution_count": 4,
     "metadata": {},
     "output_type": "execute_result"
    }
   ],
   "source": [
    "15+np.log(4)"
   ]
  },
  {
   "attachments": {},
   "cell_type": "markdown",
   "metadata": {},
   "source": [
    "```\n",
    "[1A]\n",
    "\n",
    "SOLUTION\n",
    "\n",
    "$\n",
    "\\begin{aligned}\n",
    "16.3863\n",
    "\\approx\n",
    "\\int_1^4\\sqrt{4+\\frac{1}{x^2}+4x^2}\\,dx\n",
    "\\end{aligned}\n",
    "$\n",
    "\n",
    "PROBLEM\n",
    "\n",
    "$\n",
    "\\begin{aligned}\n",
    "\\int_1^4\\sqrt{4+\\frac{1}{x^2}+4x^2}\\,dx\n",
    "&=\\int_1^4\\sqrt{4x^2+4+\\frac{1}{x^2}}\\,dx\\\\\n",
    "&=\\int_1^4\\sqrt{(2x)^2+2x\\frac{1}{x}+2x\\frac{1}{x}+\\left(\\frac{1}{x}\\right)^2}\\,dx\\\\\n",
    "&=\\int_1^4\\sqrt{\\left(2x+\\frac{1}{x}\\right)\\left(2x+\\frac{1}{x}\\right)}\\,dx\\\\\n",
    "&=\\int_1^4\\sqrt{\\left(2x+\\frac{1}{x}\\right)^2}\\,dx\\\\\n",
    "&=\\int_1^4\\left(2x+\\frac{1}{x}\\right)\\,dx\\\\\n",
    "&=2\\int_1^4x\\,dx+\\int_1^4\\frac{1}{x}\\,dx\\\\\n",
    "&=x^2\\Big|_1^4+\\ln(|x|)\\Big|_1^4\\\\\n",
    "&=15+\\ln(4)\\\\\n",
    "&\\approx16.3863\\\\\n",
    "\\end{aligned}\n",
    "$\n",
    "```"
   ]
  },
  {
   "attachments": {},
   "cell_type": "markdown",
   "metadata": {},
   "source": [
    "---"
   ]
  },
  {
   "attachments": {},
   "cell_type": "markdown",
   "metadata": {},
   "source": [
    "[1B]\n",
    "\n",
    "SOLUTION\n",
    "\n",
    "$\n",
    "\\begin{aligned}\n",
    "0.6095\n",
    "\\approx\n",
    "\\int_0^1\\sqrt{t^2+t^4}\\,dt\n",
    "\\end{aligned}\n",
    "$\n",
    "\n",
    "PROBLEM\n",
    "\n",
    "$\n",
    "\\begin{aligned}\n",
    "\\int_0^1\\sqrt{t^2+t^4}\\,dt\n",
    "&=\\int_0^1\\sqrt{t^2(1+t^2)}\\,dt\n",
    "&=\\int_0^1t\\sqrt{1+t^2}\\,dt\\\\\n",
    "\\end{aligned}\n",
    "$\n",
    "\n",
    "$\n",
    "u=t^2+1\\implies du=2t\\,dt\\implies\\frac{du}{2t}=dt\n",
    "$\n",
    "\n",
    "$t=0\\implies u=(0)^2+1=1$\n",
    "\n",
    "$t=1\\implies u=(1)^2+1=2$\n",
    "\n",
    "$\n",
    "\\begin{aligned}\n",
    "=\\int_1^2t\\sqrt{u}\\frac{du}{2t}\n",
    "&=\\int_1^2\\frac{t}{2t}\\sqrt{u}\\,du\\\\\n",
    "&=\\frac{1}{2}\\int_1^2\\sqrt{u}\\,du\\\\\n",
    "&=\\frac{1}{3}u^\\frac{3}{2}\\Big|_1^2\\\\\n",
    "&=\\frac{1}{3}2^\\frac{3}{2}-\\frac{1}{3}\\\\\n",
    "&\\approx0.6095\\\\\n",
    "\\end{aligned}\n",
    "$"
   ]
  },
  {
   "cell_type": "code",
   "execution_count": 8,
   "metadata": {},
   "outputs": [
    {
     "data": {
      "text/plain": [
       "0.6094757082487301"
      ]
     },
     "execution_count": 8,
     "metadata": {},
     "output_type": "execute_result"
    }
   ],
   "source": [
    "(np.sqrt(8)-1)/3"
   ]
  },
  {
   "attachments": {},
   "cell_type": "markdown",
   "metadata": {},
   "source": [
    "```\n",
    "[1B]\n",
    "\n",
    "SOLUTION\n",
    "\n",
    "$\n",
    "\\begin{aligned}\n",
    "0.6095\n",
    "\\approx\n",
    "\\int_0^1\\sqrt{t^2+t^4}\\,dt\n",
    "\\end{aligned}\n",
    "$\n",
    "\n",
    "PROBLEM\n",
    "\n",
    "$\n",
    "\\begin{aligned}\n",
    "\\int_0^1\\sqrt{t^2+t^4}\\,dt\n",
    "&=\\int_0^1\\sqrt{t^2(1+t^2)}\\,dt\n",
    "&=\\int_0^1t\\sqrt{1+t^2}\\,dt\\\\\n",
    "\\end{aligned}\n",
    "$\n",
    "\n",
    "$\n",
    "u=t^2+1\\implies du=2t\\,dt\\implies\\frac{du}{2t}=dt\n",
    "$\n",
    "\n",
    "$t=0\\implies u=(0)^2+1=1$\n",
    "\n",
    "$t=1\\implies u=(1)^2+1=2$\n",
    "\n",
    "$\n",
    "\\begin{aligned}\n",
    "=\\int_1^2t\\sqrt{u}\\frac{du}{2t}\n",
    "&=\\int_1^2\\frac{t}{2t}\\sqrt{u}\\,du\\\\\n",
    "&=\\frac{1}{2}\\int_1^2\\sqrt{u}\\,du\\\\\n",
    "&=\\frac{1}{3}u^\\frac{3}{2}\\Big|_1^2\\\\\n",
    "&=\\frac{1}{3}2^\\frac{3}{2}-\\frac{1}{3}\\\\\n",
    "&\\approx0.6095\\\\\n",
    "\\end{aligned}\n",
    "$\n",
    "```"
   ]
  },
  {
   "attachments": {},
   "cell_type": "markdown",
   "metadata": {},
   "source": [
    "---"
   ]
  },
  {
   "attachments": {},
   "cell_type": "markdown",
   "metadata": {},
   "source": [
    "[1C]\n",
    "\n",
    "SOLUTION\n",
    "\n",
    "$\n",
    "\\begin{aligned}\n",
    "\\pi=\\int_0^{2\\pi}\\cos^2(\\theta)\\,d\\theta\n",
    "\\end{aligned}\n",
    "$\n",
    "\n",
    "PROBLEM\n",
    "\n",
    "$\n",
    "\\begin{aligned}\n",
    "\\int_0^{2\\pi}\\cos^2(\\theta)\\,d\\theta\\,\\,\\,\\text{where}\\,\\,\\,\\cos^2(\\theta)=\\frac{\\cos(2\\theta)+1}{2}\n",
    "\\end{aligned}\n",
    "$\n",
    "\n",
    "$\n",
    "\\begin{aligned}\n",
    "=\\int_0^{2\\pi}\\frac{\\cos(2\\theta)+1}{2}\\,d\\theta\n",
    "&=\\frac{1}{2}\\int_0^{2\\pi}(\\cos(2\\theta)+1)\\,d\\theta\\\\\n",
    "&=\\frac{1}{2}\\int_0^{2\\pi}\\cos(2\\theta)\\,d\\theta+\\frac{1}{2}\\int_0^{2\\pi}1\\,d\\theta\\\\\n",
    "\\end{aligned}\n",
    "$\n",
    "\n",
    "$u=2\\theta\\implies du=2\\,d\\theta\\implies\\frac{du}{2}=d\\theta$\n",
    "\n",
    "$\\theta=0\\implies u=2(0)=0$\n",
    "\n",
    "$\\theta=2\\pi\\implies u=2(2\\pi)=4\\pi$\n",
    "\n",
    "$\n",
    "\\begin{aligned}\n",
    "=\\frac{1}{2}\\int_0^{4\\pi}\\cos(u)\\frac{du}{2}+\\frac{1}{2}\\int_0^{4\\pi}\\frac{du}{2}\n",
    "&=\\frac{1}{4}\\int_0^{4\\pi}\\cos(u)\\,du+\\frac{1}{4}\\int_0^{4\\pi}\\,du\\\\\n",
    "&=\\frac{1}{4}\\sin(u)\\Big|_0^{4\\pi}+\\frac{1}{4}u\\Big|_0^{4\\pi}\\\\\n",
    "&=\\pi\\\\\n",
    "\\end{aligned}\n",
    "$"
   ]
  },
  {
   "attachments": {},
   "cell_type": "markdown",
   "metadata": {},
   "source": [
    "```\n",
    "[1C]\n",
    "\n",
    "SOLUTION\n",
    "\n",
    "$\n",
    "\\begin{aligned}\n",
    "\\pi=\\int_0^{2\\pi}\\cos^2(\\theta)\\,d\\theta\n",
    "\\end{aligned}\n",
    "$\n",
    "\n",
    "PROBLEM\n",
    "\n",
    "$\n",
    "\\begin{aligned}\n",
    "\\int_0^{2\\pi}\\cos^2(\\theta)\\,d\\theta\\,\\,\\,\\text{where}\\,\\,\\,\\cos^2(\\theta)=\\frac{\\cos(2\\theta)+1}{2}\n",
    "\\end{aligned}\n",
    "$\n",
    "\n",
    "$\n",
    "\\begin{aligned}\n",
    "=\\int_0^{2\\pi}\\frac{\\cos(2\\theta)+1}{2}\\,d\\theta\n",
    "&=\\frac{1}{2}\\int_0^{2\\pi}(\\cos(2\\theta)+1)\\,d\\theta\\\\\n",
    "&=\\frac{1}{2}\\int_0^{2\\pi}\\cos(2\\theta)\\,d\\theta+\\frac{1}{2}\\int_0^{2\\pi}1\\,d\\theta\\\\\n",
    "\\end{aligned}\n",
    "$\n",
    "\n",
    "$u=2\\theta\\implies du=2\\,d\\theta\\implies\\frac{du}{2}=d\\theta$\n",
    "\n",
    "$\\theta=0\\implies u=2(0)=0$\n",
    "\n",
    "$\\theta=2\\pi\\implies u=2(2\\pi)=4\\pi$\n",
    "\n",
    "$\n",
    "\\begin{aligned}\n",
    "=\\frac{1}{2}\\int_0^{4\\pi}\\cos(u)\\frac{du}{2}+\\frac{1}{2}\\int_0^{4\\pi}\\frac{du}{2}\n",
    "&=\\frac{1}{4}\\int_0^{4\\pi}\\cos(u)\\,du+\\frac{1}{4}\\int_0^{4\\pi}\\,du\\\\\n",
    "&=\\frac{1}{4}\\sin(u)\\Big|_0^{4\\pi}+\\frac{1}{4}u\\Big|_0^{4\\pi}\\\\\n",
    "&=\\pi\\\\\n",
    "\\end{aligned}\n",
    "$\n",
    "```"
   ]
  },
  {
   "attachments": {},
   "cell_type": "markdown",
   "metadata": {},
   "source": [
    "---\n"
   ]
  },
  {
   "attachments": {},
   "cell_type": "markdown",
   "metadata": {},
   "source": [
    "[1D]\n",
    "\n",
    "SOLUTION\n",
    "\n",
    "$\n",
    "\\begin{aligned}\n",
    "\\frac{2}{3}\n",
    "=\\int_0^\\frac{\\pi}{2}\\sin^3(x)\\,dx\n",
    "\\end{aligned}\n",
    "$\n",
    "\n",
    "PROBLEM\n",
    "\n",
    "$\n",
    "\\begin{aligned}\n",
    "\\int_0^\\frac{\\pi}{2}\\sin^3(x)\\,dx\n",
    "&=\\int_0^\\frac{\\pi}{2}\\sin^2(x)\\sin(x)\\,dx\\,\\,\\,\\text{where}\\,\\,\\,\\sin^2(x)=1-\\cos^2(x)\\\\\n",
    "&=\\int_0^\\frac{\\pi}{2}(1-\\cos^2(x))\\sin(x)\\,dx\n",
    "\\end{aligned}\n",
    "$\n",
    "\n",
    "$u=\\cos(x)\\implies du=-\\sin(x)\\,dx\\implies-\\frac{du}{\\sin(x)}=dx$\n",
    "\n",
    "$x=0\\implies u=\\cos(0)=1$\n",
    "\n",
    "$x=\\frac{\\pi}{2}\\implies u=\\cos(\\frac{\\pi}{2})=0$\n",
    "\n",
    "$\n",
    "\\begin{aligned}\n",
    "=\\int_1^0(1-u^2)\\sin(x)\\left(-\\frac{du}{\\sin(x)}\\right)\n",
    "&=\\int_1^0(u^2-1)\\,du\\\\\n",
    "&=\\int_1^0u^2\\,du-\\int_1^01\\,du\\\\\n",
    "&=\\frac{1}{3}u^3\\Big|_1^0-u\\Big|_1^0\\\\\n",
    "&=\\frac{2}{3}\n",
    "\\end{aligned}\n",
    "$"
   ]
  },
  {
   "attachments": {},
   "cell_type": "markdown",
   "metadata": {},
   "source": [
    "```\n",
    "[1D]\n",
    "\n",
    "SOLUTION\n",
    "\n",
    "$\n",
    "\\begin{aligned}\n",
    "\\frac{2}{3}\n",
    "=\\int_0^\\frac{\\pi}{2}\\sin^3(x)\\,dx\n",
    "\\end{aligned}\n",
    "$\n",
    "\n",
    "PROBLEM\n",
    "\n",
    "$\n",
    "\\begin{aligned}\n",
    "\\int_0^\\frac{\\pi}{2}\\sin^3(x)\\,dx\n",
    "&=\\int_0^\\frac{\\pi}{2}\\sin^2(x)\\sin(x)\\,dx\\,\\,\\,\\text{where}\\,\\,\\,\\sin^2(x)=1-\\cos^2(x)\\\\\n",
    "&=\\int_0^\\frac{\\pi}{2}(1-\\cos^2(x))\\sin(x)\\,dx\n",
    "\\end{aligned}\n",
    "$\n",
    "\n",
    "$u=\\cos(x)\\implies du=-\\sin(x)\\,dx\\implies-\\frac{du}{\\sin(x)}=dx$\n",
    "\n",
    "$x=0\\implies u=\\cos(0)=1$\n",
    "\n",
    "$x=\\frac{\\pi}{2}\\implies u=\\cos(\\frac{\\pi}{2})=0$\n",
    "\n",
    "$\n",
    "\\begin{aligned}\n",
    "=\\int_1^0(1-u^2)\\sin(x)\\left(-\\frac{du}{\\sin(x)}\\right)\n",
    "&=\\int_1^0(u^2-1)\\,du\\\\\n",
    "&=\\int_1^0u^2\\,du-\\int_1^01\\,du\\\\\n",
    "&=\\frac{1}{3}u^3\\Big|_1^0-u\\Big|_1^0\\\\\n",
    "&=\\frac{2}{3}\n",
    "\\end{aligned}\n",
    "$\n",
    "```"
   ]
  },
  {
   "attachments": {},
   "cell_type": "markdown",
   "metadata": {},
   "source": [
    "---"
   ]
  },
  {
   "attachments": {},
   "cell_type": "markdown",
   "metadata": {},
   "source": [
    "## Linear"
   ]
  },
  {
   "attachments": {},
   "cell_type": "markdown",
   "metadata": {},
   "source": [
    "\n",
    "linear in $n$ variables $x_1,...,x_n$\n",
    "\n",
    "$a_1x_1+a_2x_2+...+a_nx_n=b$\n",
    "\n",
    "linear in two variables $x,y$\n",
    "\n",
    "Standard Form of a Line\n",
    "\n",
    "$Ax+By=C$\n",
    "\n",
    "Point-Slope Form\n",
    "\n",
    "$y-y_0=m(x-x_0)$ for point $(x_0,y_0)$ and slope $m$\n",
    "\n",
    "Slope-Intercept Form\n",
    "\n",
    "$y=mx+b$\n",
    "\n",
    "$\n",
    "\\begin{aligned}\n",
    "Ax+By=C\n",
    "\\implies By=-Ax+C\n",
    "\\implies y=-\\frac{A}{B}x+\\frac{C}{B}\n",
    "\\implies y=mx+b\\,\\,\\,\\text{where}\\,\\,\\,m=-\\frac{A}{B}\\,\\,\\,\\text{and}\\,\\,\\,b=\\frac{B}{C}\n",
    "\\end{aligned}\n",
    "$"
   ]
  },
  {
   "attachments": {},
   "cell_type": "markdown",
   "metadata": {},
   "source": [
    "---"
   ]
  },
  {
   "attachments": {},
   "cell_type": "markdown",
   "metadata": {},
   "source": [
    "## Quadratic"
   ]
  },
  {
   "attachments": {},
   "cell_type": "markdown",
   "metadata": {},
   "source": [
    "Standard Form of a Quadratic Equation in one variable $x$\n",
    "\n",
    "$Ax^2+Bx+C=0$ where $A\\ne0$"
   ]
  },
  {
   "attachments": {},
   "cell_type": "markdown",
   "metadata": {},
   "source": [
    "Conic Sections\n",
    "* Ellipse (Circle)\n",
    "* Parabola\n",
    "* Hyperbola"
   ]
  },
  {
   "attachments": {},
   "cell_type": "markdown",
   "metadata": {},
   "source": [
    "General Form of a Quadratic Equation in two variables $x,y$\n",
    "\n",
    "with cross terms\n",
    "\n",
    "$Ax^2+Bxy+Cy^2+Dx+Ey+F=0$ where $A\\ne0\\lor B\\ne0\\lor C\\ne0$\n",
    "\n",
    "without cross terms\n",
    "\n",
    "$Ax^2+By^2+Cx+Dy+E=0$ where $A\\ne0\\lor B\\ne0$"
   ]
  },
  {
   "attachments": {},
   "cell_type": "markdown",
   "metadata": {},
   "source": [
    "---"
   ]
  },
  {
   "attachments": {},
   "cell_type": "markdown",
   "metadata": {},
   "source": [
    "General Form of a Circle\n",
    "\n",
    "$x^2+y^2+Cx+Dy+E=0$\n",
    "\n",
    "complete the square to return to the center-radius form"
   ]
  },
  {
   "attachments": {},
   "cell_type": "markdown",
   "metadata": {},
   "source": [
    "---"
   ]
  },
  {
   "attachments": {},
   "cell_type": "markdown",
   "metadata": {},
   "source": [
    "Parabola\n",
    "\n",
    "just one squared term\n",
    "\n",
    "$Ax^2+Cx+Dy+E=0$\n",
    "\n",
    "Standard Form of a Parabola\n",
    "\n",
    "$(y-k)=a(x-h)^2$ is $y=x^2$ shifted right $h$ units; shifted up $k$ units; and stretched vertically by a factor of $a$; with vertex $(h,k)$\n",
    "\n",
    "as a function\n",
    "\n",
    "$y=a(x-h)^2+k$"
   ]
  },
  {
   "attachments": {},
   "cell_type": "markdown",
   "metadata": {},
   "source": [
    "find the vertex via differentiation to see where the graph has a horizontal tangent line\n",
    "\n",
    "$\n",
    "\\begin{aligned}\n",
    "y\n",
    "&=a(x-h)^2+k\\\\\n",
    "&=ax^2-2ahx+ah^2+k\\implies\\\\\n",
    "y'&=2ax-2ah\\\\\n",
    "0&=2ax-2ah\\implies\\\\\n",
    "x&=h\\implies y=k\\\\\n",
    "\\end{aligned}\n",
    "$"
   ]
  },
  {
   "attachments": {},
   "cell_type": "markdown",
   "metadata": {},
   "source": [
    "complete the square in the squared variable to find the vertex\n",
    "\n",
    "plug the vertex into the equation $y=ax^2+bx+c$ to find the y-intercept\n",
    "\n",
    "factor the equation to find any roots"
   ]
  },
  {
   "attachments": {},
   "cell_type": "markdown",
   "metadata": {},
   "source": [
    "a parabola has an axis of symmetry through its vertex; therefore, any point on one side of the parabola is informative of a point on the other side\n",
    "\n",
    "when the squared variable is y, then the graph is a shifted and stretched version of $x=y^2$\n",
    "\n",
    "in this case, the parabola always has an x-intercept and the roots of the parabola are y-intercepts"
   ]
  },
  {
   "attachments": {},
   "cell_type": "markdown",
   "metadata": {},
   "source": [
    "---"
   ]
  },
  {
   "attachments": {},
   "cell_type": "markdown",
   "metadata": {},
   "source": [
    "[EXAMPLE]\n",
    "\n",
    "$\n",
    "\\begin{aligned}\n",
    "2x^2-4x-y=6\n",
    "&\\implies y+6=2x^2-4x\\\\\n",
    "&\\implies y+6=2(x^2-2x)\\\\\n",
    "&\\implies y+6=2((x-1)^2-1)\\\\\n",
    "&\\implies y+6=2(x-1)^2-2\\\\\n",
    "&\\implies y+8=2(x-1)^2\\\\\n",
    "\\end{aligned}\n",
    "$\n",
    "\n",
    "vertex\n",
    "\n",
    "$(h,k)=(1,-8)$\n",
    "\n",
    "$\n",
    "\\begin{aligned}\n",
    "2x^2-4x-y=6\n",
    "&\\implies y=2x^2-4x-6\\\\\n",
    "&\\implies y=2(x^2-2x-3)\\\\\n",
    "&\\implies y=2(x-3)(x+1)\\\\\n",
    "\\end{aligned}\n",
    "$\n",
    "\n",
    "y-intercept\n",
    "\n",
    "$x=0\\implies y=-6$\n",
    "\n",
    "x-intercepts\n",
    "\n",
    "$x-3=0\\implies x=3$\n",
    "\n",
    "$x+1=0\\implies x=-1$"
   ]
  },
  {
   "cell_type": "code",
   "execution_count": 27,
   "metadata": {},
   "outputs": [
    {
     "data": {
      "image/png": "[encoded data removed]",
      "text/plain": [
       "<Figure size 640x480 with 1 Axes>"
      ]
     },
     "metadata": {},
     "output_type": "display_data"
    }
   ],
   "source": [
    "s=10\n",
    "x=np.linspace(-s,s,1001);\n",
    "y=2*x**2-4*x-6\n",
    "\n",
    "plt.axes().set_aspect(1);\n",
    "plt.xlim((-s,s));\n",
    "plt.xticks(np.arange(-s,s+1,1));\n",
    "plt.ylim((-s,s));\n",
    "plt.yticks(np.arange(-s,s+1,1));\n",
    "\n",
    "plt.plot(x,y);\n",
    "plt.scatter(0,0,color='black');\n",
    "plt.axvline(x=1,color='black');\n",
    "plt.scatter(1,-8);\n",
    "plt.scatter(0,-6);\n",
    "plt.scatter(-1,0);\n",
    "plt.scatter(3,0);"
   ]
  },
  {
   "attachments": {},
   "cell_type": "markdown",
   "metadata": {},
   "source": [
    "---"
   ]
  },
  {
   "attachments": {},
   "cell_type": "markdown",
   "metadata": {},
   "source": [
    "[EXAMPLE]"
   ]
  },
  {
   "attachments": {},
   "cell_type": "markdown",
   "metadata": {},
   "source": [
    "---"
   ]
  },
  {
   "attachments": {},
   "cell_type": "markdown",
   "metadata": {},
   "source": [
    "## Terms"
   ]
  },
  {
   "attachments": {},
   "cell_type": "markdown",
   "metadata": {},
   "source": [
    "* [Algebraic Equation](https://en.wikipedia.org/wiki/Algebraic_equation)\n",
    "* [Binomial](https://en.wikipedia.org/wiki/Binomial_(polynomial))\n",
    "* [Cartesian Coordinates](https://en.wikipedia.org/wiki/Cartesian_coordinate_system)\n",
    "* [Coefficient](https://en.wikipedia.org/wiki/Coefficient)\n",
    "* [Completing the Square](https://en.wikipedia.org/wiki/Completing_the_square)\n",
    "* [Conic Section](https://en.wikipedia.org/wiki/Conic_section)\n",
    "* [Constant Term](https://en.wikipedia.org/wiki/Constant_term)\n",
    "* [Elementary Algebra](https://en.wikipedia.org/wiki/Elementary_algebra)\n",
    "* [Extrema](https://en.wikipedia.org/wiki/Maxima_and_minima)\n",
    "* [Factorization](https://en.wikipedia.org/wiki/Factorization)\n",
    "* [Gaussian Integral](https://en.wikipedia.org/wiki/Gaussian_integral)\n",
    "* [Hyperplane](https://en.wikipedia.org/wiki/Hyperplane)\n",
    "* [Hypersurface](https://en.wikipedia.org/wiki/Hypersurface)\n",
    "* [Implicit Function](https://en.wikipedia.org/wiki/Implicit_function)\n",
    "* [Integral](https://en.wikipedia.org/wiki/Integral)\n",
    "* [Irreducible Polynomial](https://en.wikipedia.org/wiki/Irreducible_polynomial)\n",
    "* [Laplace Transform](https://en.wikipedia.org/wiki/Laplace_transform)\n",
    "* [Maxima](https://en.wikipedia.org/wiki/Maxima_and_minima)\n",
    "* [Minima](https://en.wikipedia.org/wiki/Maxima_and_minima)\n",
    "* [Monic Polynomial](https://en.wikipedia.org/wiki/Monic_polynomial)\n",
    "* [Polynomial](https://en.wikipedia.org/wiki/Polynomial)\n",
    "* [Quadratic Equation](https://en.wikipedia.org/wiki/Quadratic_equation)\n",
    "* [Quadratic Form](https://en.wikipedia.org/wiki/Quadratic_form)\n",
    "* [Quadratic Formula](https://en.wikipedia.org/wiki/Quadratic_formula)\n",
    "* [Quadratic Polynomial](https://en.wikipedia.org/wiki/Quadratic_function)\n",
    "* [Quadric](https://en.wikipedia.org/wiki/Quadric)\n",
    "* [Root (Zero)](https://en.wikipedia.org/wiki/Zero_of_a_function)\n",
    "* [Stationary Point](https://en.wikipedia.org/wiki/Stationary_point)\n",
    "* [Square](https://en.wikipedia.org/wiki/Square_(algebra))\n",
    "* [Square Number](https://en.wikipedia.org/wiki/Square_number)\n",
    "* [Vertex](https://en.wikipedia.org/wiki/Vertex_(curve))"
   ]
  }
 ],
 "metadata": {
  "kernelspec": {
   "display_name": "main",
   "language": "python",
   "name": "python3"
  },
  "language_info": {
   "codemirror_mode": {
    "name": "ipython",
    "version": 3
   },
   "file_extension": ".py",
   "mimetype": "text/x-python",
   "name": "python",
   "nbconvert_exporter": "python",
   "pygments_lexer": "ipython3",
   "version": "3.10.8"
  },
  "orig_nbformat": 4,
  "vscode": {
   "interpreter": {
    "hash": "7934a2e895ecf0f9e222ea9c67d2028800f311cc59efafcc0f7e737f99c61e05"
   }
  }
 },
 "nbformat": 4,
 "nbformat_minor": 2
}
