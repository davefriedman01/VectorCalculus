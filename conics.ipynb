{
 "cells": [
  {
   "attachments": {},
   "cell_type": "markdown",
   "metadata": {},
   "source": [
    "# Conic Sections"
   ]
  },
  {
   "attachments": {},
   "cell_type": "markdown",
   "metadata": {},
   "source": [
    "```{admonition} Revised\n",
    ":class: important\n",
    "19 Feb 2023\n",
    "```\n",
    "```{contents}\n",
    "```"
   ]
  },
  {
   "attachments": {},
   "cell_type": "markdown",
   "metadata": {},
   "source": [
    "---"
   ]
  },
  {
   "attachments": {},
   "cell_type": "markdown",
   "metadata": {},
   "source": [
    "## Imports & Environment"
   ]
  },
  {
   "cell_type": "code",
   "execution_count": 2,
   "metadata": {},
   "outputs": [
    {
     "name": "stdout",
     "output_type": "stream",
     "text": [
      "EXECUTED            : 2023-02-19 19:02:35.859874\n",
      "\n",
      "Platform            : 13.2.1 | Darwin | 22.3.0 | arm64\n",
      "                    : UTF-8\n",
      "\n",
      "Python              : 3.10.8 | packaged by conda-forge | (main, Nov 22 2022, 08:25:29) [Clang 14.0.6 ]\n",
      "                    : sys.version_info(major=3, minor=10, micro=8, releaselevel='final', serial=0)\n",
      "                    : CPython\n",
      "\n",
      "Matplotlib          : 3.6.3\n",
      "Numexpr             : 2.8.3\n",
      "NumPy               : 1.24.1\n",
      "Pandas              : 1.5.3\n",
      "Plotly              : 5.13.0\n",
      "SymPy               : 1.11.1\n"
     ]
    }
   ],
   "source": [
    "# %load imports.py\n",
    "import numpy                    as np\n",
    "import numpy.random             as npr\n",
    "import pandas                   as pd\n",
    "\n",
    "import matplotlib               as mpl\n",
    "from   matplotlib import cm\n",
    "from   matplotlib.patches import Ellipse\n",
    "import matplotlib.pyplot        as plt\n",
    "plt.style.use('ggplot');\n",
    "from   matplotlib.ticker import LinearLocator\n",
    "\n",
    "import plotly\n",
    "import plotly.express           as px\n",
    "import plotly.graph_objects     as go\n",
    "\n",
    "import sympy as sy\n",
    "from   sympy.geometry import Point, Line\n",
    "from   sympy import (diff,\n",
    "                     dsolve,\n",
    "                     Eq,\n",
    "                     expand,\n",
    "                     factor,\n",
    "                     Function,\n",
    "                     init_printing,\n",
    "                     Integer,\n",
    "                     Integral,\n",
    "                     integrate,\n",
    "                     latex,\n",
    "                     limit,\n",
    "                     Matrix,\n",
    "                     Poly,\n",
    "                     Rational,\n",
    "                     solve,\n",
    "                     Symbol,\n",
    "                     symbols)\n",
    "\n",
    "S =Symbol\n",
    "ss=symbols\n",
    "x,y,z,t,u,v=ss(names='x y z t u v')\n",
    "init_printing(use_unicode=True)\n",
    "\n",
    "import math\n",
    "import numexpr\n",
    "\n",
    "from   datetime import datetime as d\n",
    "import locale                   as l\n",
    "import platform                 as p\n",
    "import sys                      as s\n",
    "\n",
    "pad = 20\n",
    "print(f\"{'Executed'.upper():<{pad}}: {d.now()}\")\n",
    "print()\n",
    "print(f\"{'Platform'        :<{pad}}: \"\n",
    "      f\"{p.mac_ver()[0]} | \"\n",
    "      f\"{p.system()} | \"\n",
    "      f\"{p.release()} | \"\n",
    "      f\"{p.machine()}\")\n",
    "print(f\"{''                :<{pad}}: {l.getpreferredencoding()}\")\n",
    "print()\n",
    "print(f\"{'Python'          :<{pad}}: {s.version}\")\n",
    "print(f\"{''                :<{pad}}: {s.version_info}\")\n",
    "print(f\"{''                :<{pad}}: {p.python_implementation()}\")\n",
    "print()\n",
    "print(f\"{'Matplotlib'      :<{pad}}: {mpl.__version__}\")\n",
    "print(f\"{'Numexpr'         :<{pad}}: {numexpr.__version__}\")\n",
    "print(f\"{'NumPy'           :<{pad}}: {np.__version__}\")\n",
    "print(f\"{'Pandas'          :<{pad}}: {pd.__version__}\")\n",
    "print(f\"{'Plotly'          :<{pad}}: {plotly.__version__}\")\n",
    "print(f\"{'SymPy'           :<{pad}}: {sy.__version__}\")\n",
    "# print()\n",
    "# from pprint import PrettyPrinter\n",
    "# pp = PrettyPrinter(indent=2)\n",
    "# pp.pprint([name for name in dir()\n",
    "#            if name[0] != '_'\n",
    "#            and name not in ['In', 'Out', 'exit', 'get_ipython', 'quit']])"
   ]
  },
  {
   "attachments": {},
   "cell_type": "markdown",
   "metadata": {},
   "source": [
    "## Auxiliary code"
   ]
  },
  {
   "cell_type": "code",
   "execution_count": 5,
   "metadata": {},
   "outputs": [],
   "source": [
    "x=np.linspace(-9,9,400)\n",
    "y=np.linspace(-9,9,400)\n",
    "x,y=np.meshgrid(x,y)\n",
    "\n",
    "def axes ():\n",
    "  plt.axhline(0,alpha=0.1)\n",
    "  plt.axvline(0,alpha=0.1)"
   ]
  },
  {
   "attachments": {},
   "cell_type": "markdown",
   "metadata": {},
   "source": [
    "---"
   ]
  },
  {
   "attachments": {},
   "cell_type": "markdown",
   "metadata": {},
   "source": [
    "## Linear Equation"
   ]
  },
  {
   "attachments": {},
   "cell_type": "markdown",
   "metadata": {},
   "source": [
    "\n",
    "linear in $n$ variables $x_1,...,x_n$\n",
    "\n",
    "$a_1x_1+a_2x_2+...+a_nx_n=b$\n",
    "\n",
    "linear in two variables $x,y$\n",
    "\n",
    "Standard Form of a Line\n",
    "\n",
    "$Ax+By=C$\n",
    "\n",
    "Point-Slope Form\n",
    "\n",
    "$y-y_0=m(x-x_0)$ for point $(x_0,y_0)$ and slope $m$\n",
    "\n",
    "Slope-Intercept Form\n",
    "\n",
    "$y=mx+b$\n",
    "\n",
    "$\n",
    "\\begin{aligned}\n",
    "Ax+By=C\n",
    "\\implies By=-Ax+C\n",
    "\\implies y=-\\frac{A}{B}x+\\frac{C}{B}\n",
    "\\implies y=mx+b\\,\\,\\,\\text{where}\\,\\,\\,m=-\\frac{A}{B}\\,\\,\\,\\text{and}\\,\\,\\,b=\\frac{B}{C}\n",
    "\\end{aligned}\n",
    "$"
   ]
  },
  {
   "attachments": {},
   "cell_type": "markdown",
   "metadata": {},
   "source": [
    "---"
   ]
  },
  {
   "attachments": {},
   "cell_type": "markdown",
   "metadata": {},
   "source": [
    "## General quadratic in a single variable"
   ]
  },
  {
   "attachments": {},
   "cell_type": "markdown",
   "metadata": {},
   "source": [
    "General form of a quadratic equation in a single variable $x$\n",
    "\n",
    "$Ax^2+Bx+C=0$ where $A\\ne0$"
   ]
  },
  {
   "attachments": {},
   "cell_type": "markdown",
   "metadata": {},
   "source": [
    "---"
   ]
  },
  {
   "attachments": {},
   "cell_type": "markdown",
   "metadata": {},
   "source": [
    "## General quadratic in two variables"
   ]
  },
  {
   "attachments": {},
   "cell_type": "markdown",
   "metadata": {},
   "source": [
    "General form of a quadratic equation in two variables $x,y$\n",
    "\n",
    "with cross terms\n",
    "\n",
    "$Ax^2+Bxy+Cy^2+Dx+Ey+F=0$ where $A\\ne0\\lor B\\ne0\\lor C\\ne0$\n",
    "\n",
    "without cross terms\n",
    "\n",
    "$Ax^2+By^2+Cx+Dy+E=0$ where $A\\ne0\\lor B\\ne0$"
   ]
  },
  {
   "attachments": {},
   "cell_type": "markdown",
   "metadata": {},
   "source": [
    "---"
   ]
  },
  {
   "cell_type": "markdown",
   "metadata": {},
   "source": [
    "$\n",
    "\\begin{aligned}\n",
    "Ax^2+By^2+Cx+Dy+E=0\n",
    "&\\implies (Ax^2+Cx)+(By^2+Dy)=-E\\\\\n",
    "&\\implies A\\left(x^2+\\frac{C}{A}x\\right)+B\\left(y^2+\\frac{D}{B}y\\right)=-E\\\\\n",
    "&\\implies A\\left(x^2+\\frac{C}{A}x+\\left(\\frac{C}{2A}\\right)^2\\right)+B\\left(y^2+\\frac{D}{B}y+\\left(\\frac{D}{2B}\\right)^2\\right)=-E+A\\left(\\frac{C}{2A}\\right)^2+B\\left(\\frac{D}{2B}\\right)^2\\\\\n",
    "&\\implies A\\left(x+\\frac{C}{2A}\\right)^2+B\\left(y+\\frac{B}{2D}\\right)^2=\\frac{C^2}{4A}+\\frac{D^2}{4B}-E\\\\\n",
    "&\\implies A\\left(x+\\frac{C}{2A}\\right)^2+B\\left(y+\\frac{B}{2D}\\right)^2=\\frac{BC^2+AD^2-4ABE}{4AB}\\\\\n",
    "&\\implies \\frac{4AB}{BC^2+AD^2-4ABE}\\left(A\\left(x+\\frac{C}{2A}\\right)^2+B\\left(y+\\frac{B}{2D}\\right)^2\\right)=1\\\\\n",
    "&\\implies \\frac{4A^2B}{BC^2+AD^2-4ABE}\\left(x+\\frac{C}{2A}\\right)^2+\\frac{4AB^2}{BC^2+AD^2-4ABE}\\left(y+\\frac{B}{2D}\\right)^2=1\\\\\n",
    "\\end{aligned}\n",
    "$"
   ]
  },
  {
   "attachments": {},
   "cell_type": "markdown",
   "metadata": {},
   "source": [
    "---"
   ]
  },
  {
   "attachments": {},
   "cell_type": "markdown",
   "metadata": {},
   "source": [
    "## Parabola"
   ]
  },
  {
   "attachments": {},
   "cell_type": "markdown",
   "metadata": {},
   "source": [
    "just one squared term\n",
    "\n",
    "$Ax^2+Cx+Dy+E=0$\n",
    "\n",
    "Standard Form of a Parabola\n",
    "\n",
    "$(y-k)=a(x-h)^2$ is $y=x^2$ shifted right $h$ units; shifted up $k$ units; and stretched vertically by a factor of $a$; with vertex $(h,k)$\n",
    "\n",
    "as a function\n",
    "\n",
    "$y=a(x-h)^2+k$\n",
    "\n",
    "find the vertex via differentiation to see where the graph has a horizontal tangent line\n",
    "\n",
    "$\n",
    "\\begin{aligned}\n",
    "y\n",
    "&=a(x-h)^2+k\\\\\n",
    "&=ax^2-2ahx+ah^2+k\\implies\\\\\n",
    "y'&=2ax-2ah\\\\\n",
    "0&=2ax-2ah\\implies\\\\\n",
    "x&=h\\implies y=k\\\\\n",
    "\\end{aligned}\n",
    "$\n",
    "\n",
    "complete the square in the squared variable to find the vertex\n",
    "\n",
    "plug the vertex into the equation $y=ax^2+bx+c$ to find the y-intercept\n",
    "\n",
    "factor the equation to find any roots\n",
    "\n",
    "a parabola has an axis of symmetry through its vertex; therefore, any point on one side of the parabola is informative of a point on the other side\n",
    "\n",
    "when the squared variable is y, then the graph is a shifted and stretched version of $x=y^2$\n",
    "\n",
    "in this case, the parabola always has an x-intercept and the roots of the parabola are y-intercepts"
   ]
  },
  {
   "attachments": {},
   "cell_type": "markdown",
   "metadata": {},
   "source": [
    "---"
   ]
  },
  {
   "attachments": {},
   "cell_type": "markdown",
   "metadata": {},
   "source": [
    "[EXAMPLE]\n",
    "\n",
    "$\n",
    "\\begin{aligned}\n",
    "2x^2-4x-y=6\n",
    "&\\implies y+6=2x^2-4x\\\\\n",
    "&\\implies y+6=2(x^2-2x)\\\\\n",
    "&\\implies y+6=2((x-1)^2-1)\\\\\n",
    "&\\implies y+6=2(x-1)^2-2\\\\\n",
    "&\\implies y+8=2(x-1)^2\\\\\n",
    "\\end{aligned}\n",
    "$\n",
    "\n",
    "vertex\n",
    "\n",
    "$(h,k)=(1,-8)$\n",
    "\n",
    "$\n",
    "\\begin{aligned}\n",
    "2x^2-4x-y=6\n",
    "&\\implies y=2x^2-4x-6\\\\\n",
    "x=0&\\implies y=-6\\\\\n",
    "\\end{aligned}\n",
    "$\n",
    "\n",
    "y-intercept\n",
    "\n",
    "$(0,y)=(0,-6)$\n",
    "\n",
    "$\n",
    "\\begin{aligned}\n",
    "2x^2-4x-y=6\n",
    "&\\implies y=2x^2-4x-6\\\\\n",
    "&\\implies y=2(x^2-2x-3)\\\\\n",
    "&\\implies y=2(x-3)(x+1)\\\\\n",
    "\\end{aligned}\n",
    "$\n",
    "\n",
    "roots (x-intercepts)\n",
    "\n",
    "$x-3=0\\implies x=3$\n",
    "\n",
    "$x+1=0\\implies x=-1$\n",
    "\n",
    "by symmetry\n",
    "\n",
    "$(2h,y)=(2,-6)$"
   ]
  },
  {
   "cell_type": "code",
   "execution_count": 6,
   "metadata": {},
   "outputs": [
    {
     "data": {
      "image/png": "[encoded data removed]",
      "text/plain": [
       "<Figure size 640x480 with 1 Axes>"
      ]
     },
     "metadata": {},
     "output_type": "display_data"
    }
   ],
   "source": [
    "s=9\n",
    "x=np.linspace(-s,s,1001);\n",
    "y=2*x**2-4*x-6\n",
    "\n",
    "plt.axes().set_aspect(1);\n",
    "plt.xlim((-s,s));\n",
    "plt.xticks(np.arange(-s,s+1,1));\n",
    "plt.ylim((-s,s));\n",
    "plt.yticks(np.arange(-s,s+1,1));\n",
    "\n",
    "plt.plot(x,y);\n",
    "plt.scatter(0,0,color='black');\n",
    "plt.axvline(x=1,color='black');\n",
    "plt.scatter( 1,-8);\n",
    "plt.scatter( 0,-6);\n",
    "plt.scatter( 2,-6);\n",
    "plt.scatter(-1, 0);\n",
    "plt.scatter( 3, 0);"
   ]
  },
  {
   "attachments": {},
   "cell_type": "markdown",
   "metadata": {},
   "source": [
    "---"
   ]
  },
  {
   "attachments": {},
   "cell_type": "markdown",
   "metadata": {},
   "source": [
    "[EXAMPLE]\n",
    "\n",
    "$\n",
    "\\begin{aligned}\n",
    "x+4y=y^2+5\n",
    "&\\implies x=y^2-4y+5\\\\\n",
    "&\\implies x=(y-2)^2+1\\\\\n",
    "&\\implies x-1=(y-2)^2\\\\\n",
    "\\end{aligned}\n",
    "$\n",
    "\n",
    "vertex\n",
    "\n",
    "$(h,k)=(1,2)$\n",
    "\n",
    "$\n",
    "\\begin{aligned}\n",
    "x+4y=y^2+5\n",
    "&\\implies x=y^2-4y+5\\\\\n",
    "y=0&\\implies x=5\\\\\n",
    "\\end{aligned}\n",
    "$\n",
    "\n",
    "x-intercept\n",
    "\n",
    "$(x,0)=(5,0)$\n",
    "\n",
    "roots (y-intercepts)\n",
    "\n",
    "$\n",
    "\\begin{aligned}\n",
    "y=\\frac{-b\\pm\\sqrt{b^2-4ac}}{a^2}\n",
    "&\\implies y=\\frac{-(-4)\\pm\\sqrt{(-4)^2-4(1)(5)}}{(1)^2}\\\\\n",
    "&\\implies y=4\\pm\\sqrt{16-20}\\\\\n",
    "&\\implies y=4\\pm2\\sqrt{-1}\\\\\n",
    "&\\implies y=4\\pm2i\\\\\n",
    "\\end{aligned}\n",
    "$\n",
    "\n",
    "by symmetry\n",
    "\n",
    "$(x,2k)=(5,4)$"
   ]
  },
  {
   "cell_type": "code",
   "execution_count": 7,
   "metadata": {},
   "outputs": [
    {
     "data": {
      "image/png": "[encoded data removed]",
      "text/plain": [
       "<Figure size 640x480 with 1 Axes>"
      ]
     },
     "metadata": {},
     "output_type": "display_data"
    }
   ],
   "source": [
    "s=6\n",
    "y=np.linspace(-s,s,1001);\n",
    "x=y**2-4*y+5\n",
    "\n",
    "plt.axes().set_aspect(1);\n",
    "plt.xlim((-s,s));\n",
    "plt.xticks(np.arange(-s,s+1,1));\n",
    "plt.ylim((-s,s));\n",
    "plt.yticks(np.arange(-s,s+1,1));\n",
    "\n",
    "plt.plot(x,y);\n",
    "plt.scatter(0,0,color='black');\n",
    "plt.axhline(y=2,color='black');\n",
    "plt.scatter(1,2);\n",
    "plt.scatter(5,0);\n",
    "plt.scatter(5,4);"
   ]
  },
  {
   "attachments": {},
   "cell_type": "markdown",
   "metadata": {},
   "source": [
    "---"
   ]
  },
  {
   "attachments": {},
   "cell_type": "markdown",
   "metadata": {},
   "source": [
    "$\n",
    "y^2=4ax\n",
    "$\n",
    "where $a\\gt0$\n",
    "\n",
    "focus $(a,0)$\n",
    "\n",
    "directrix $x=-a$"
   ]
  },
  {
   "attachments": {},
   "cell_type": "markdown",
   "metadata": {},
   "source": [
    "### Example in standard position"
   ]
  },
  {
   "cell_type": "code",
   "execution_count": 3,
   "metadata": {},
   "outputs": [
    {
     "data": {
      "image/png": "[encoded data removed]",
      "text/plain": [
       "<Figure size 640x480 with 1 Axes>"
      ]
     },
     "metadata": {},
     "output_type": "display_data"
    }
   ],
   "source": [
    "x=np.linspace(-9,9,400)\n",
    "y=np.linspace(-9,9,400)\n",
    "x,y=np.meshgrid(x,y)\n",
    "\n",
    "def axes ():\n",
    "  plt.axhline(0,alpha=0.1)\n",
    "  plt.axvline(0,alpha=0.1)\n",
    "\n",
    "a=0.3\n",
    "axes()\n",
    "plt.contour(x,y,y**2-4*a*x,[0],colors='k');\n",
    "# focus\n",
    "plt.plot(a,0,'.');\n",
    "# directrix\n",
    "plt.axvline(-a);"
   ]
  },
  {
   "attachments": {},
   "cell_type": "markdown",
   "metadata": {},
   "source": [
    "### Example in non standard position"
   ]
  },
  {
   "cell_type": "code",
   "execution_count": 4,
   "metadata": {},
   "outputs": [
    {
     "data": {
      "image/png": "[encoded data removed]",
      "text/plain": [
       "<Figure size 640x480 with 1 Axes>"
      ]
     },
     "metadata": {},
     "output_type": "display_data"
    }
   ],
   "source": [
    "a,b,c,d,e,f=1,-2,1,2,2,-10\n",
    "assert b**2-4*a*c==0\n",
    "\n",
    "general=a*x**2 + b*x*y + c*y**2 + d*x + e*y + f\n",
    "\n",
    "axes()\n",
    "plt.contour(x,y,general,[0],colors='k');"
   ]
  },
  {
   "attachments": {},
   "cell_type": "markdown",
   "metadata": {},
   "source": [
    "---"
   ]
  },
  {
   "attachments": {},
   "cell_type": "markdown",
   "metadata": {},
   "source": [
    "## Ellipse & Circle"
   ]
  },
  {
   "attachments": {},
   "cell_type": "markdown",
   "metadata": {},
   "source": [
    "Start with the general quadratic in two variables ignoring cross terms\n",
    "\n",
    "$\n",
    "Ax^2+Bx^2+Cx+Dy+E=0\n",
    "$\n",
    "where $A\\ne0\\lor B\\ne0$\n",
    "\n",
    "Complete the square in each variable separately to transform the general equation into the standard form of an ellipse."
   ]
  },
  {
   "attachments": {},
   "cell_type": "markdown",
   "metadata": {},
   "source": [
    "Standard Form of an Ellipse\n",
    "\n",
    "$\n",
    "\\begin{aligned}\n",
    "\\left(\\frac{x-h}{a}\\right)^2+\\left(\\frac{y-k}{b}\\right)^2=1\n",
    "\\end{aligned}\n",
    "$\n",
    "\n",
    "$(h,k)$ center\n",
    "\n",
    "$a$ horizontal stretch factor\n",
    "\n",
    "$b$ vertical stretch factor"
   ]
  },
  {
   "attachments": {},
   "cell_type": "markdown",
   "metadata": {},
   "source": [
    "an ellipse centered at the origin\n",
    "\n",
    "$\n",
    "\\begin{aligned}\n",
    "\\frac{x^2}{a^2}+\\frac{y^2}{b^2}=1\n",
    "\\end{aligned}\n",
    "$"
   ]
  },
  {
   "attachments": {},
   "cell_type": "markdown",
   "metadata": {},
   "source": [
    "given the center of an ellipse\n",
    "* plug the x-coordinate of the center of the ellipse into the equation of the ellipse to find the y-coordinates of two points on the ellipse\n",
    "* plut the y-coordinate of the center of the ellipse into the equation of the ellipse to find the x-coordinates of two points on the ellipse\n",
    "\n",
    "if $a=b=r$, then the graph is a circle with radius $r$\n",
    "\n",
    "$\n",
    "\\begin{aligned}\n",
    "\\frac{x^2}{r^2}+\\frac{y^2}{r^2}=1\n",
    "\\implies\n",
    "x^2+y^2=r^2\n",
    "\\end{aligned}\n",
    "$\n",
    "\n",
    "Unit Circle (radius $r=1$)\n",
    "\n",
    "$x^2+y^2=1$\n",
    "\n",
    "center $(0,0)$\n",
    "\n",
    "[CASE]\n",
    "\n",
    "Point (or Circle of radius $r=0$)\n",
    "\n",
    "[EXAMPLE]\n",
    "\n",
    "$\n",
    "\\begin{aligned}\n",
    "(x-3)^2+(y+2)^2=0\n",
    "&\\implies\n",
    "(x-3)^2=0\n",
    "\\land\n",
    "(y+2)^2=0\\\\\n",
    "&\\implies\n",
    "x-3=0\n",
    "\\land\n",
    "y+2=0\\\\\n",
    "&\\implies\n",
    "x=3\n",
    "\\land\n",
    "y=-2\\\\\n",
    "\\end{aligned}\n",
    "$\n",
    "\n",
    "the only way for two square values to sum to zero is for each square itself to be equal to zero"
   ]
  },
  {
   "attachments": {},
   "cell_type": "markdown",
   "metadata": {},
   "source": [
    "[CASE]\n",
    "\n",
    "DNE (or Circle with negative radius $r$)\n",
    "\n",
    "[EXAMPLE]\n",
    "\n",
    "$\n",
    "\\begin{aligned}\n",
    "(x+4)^2+(y-1)^2=-2\n",
    "\\end{aligned}\n",
    "$\n",
    "\n",
    "two square values cannot sum to a negative number"
   ]
  },
  {
   "attachments": {},
   "cell_type": "markdown",
   "metadata": {},
   "source": [
    "---"
   ]
  },
  {
   "attachments": {},
   "cell_type": "markdown",
   "metadata": {},
   "source": [
    "[EXAMPLE]\n",
    "\n",
    "$\n",
    "\\begin{aligned}\n",
    "4x^2+y^2=6y-5\n",
    "&\\implies4x^2+y^2-6y=-5\\\\\n",
    "&\\implies4(x^2)+(y^2-6y)=-5\\\\\n",
    "&\\implies4(x^2)+(y^2-6y+9)=-5+9\\\\\n",
    "&\\implies4(x^2)+(y-3)^2=4\\\\\n",
    "&\\implies x^2+\\left(\\frac{y-3}{2}\\right)^2=1\\\\\n",
    "\\end{aligned}\n",
    "$\n",
    "\n",
    "center $(0,3)$\n",
    "\n",
    "$a=1$\n",
    "\n",
    "$b=2$\n",
    "\n",
    "$\n",
    "\\begin{aligned}\n",
    "x=0\n",
    "&\\implies\n",
    "y^2-6y+5=0\\\\\n",
    "&\\implies(y-5)(y-1)=0\\\\\n",
    "&\\implies y-5=0\\land y-1=0\\\\\n",
    "&\\implies y=5\\land y=1\\\\\n",
    "\\end{aligned}\n",
    "$\n",
    "\n",
    "$\n",
    "\\begin{aligned}\n",
    "y=3\n",
    "&\\implies\n",
    "4x^2+(3)^2-6(3)=-5\\\\\n",
    "&\\implies\n",
    "x^2=1\\\\\n",
    "&\\implies\n",
    "x=\\pm1\\\\\n",
    "\\end{aligned}\n",
    "$"
   ]
  },
  {
   "cell_type": "code",
   "execution_count": 8,
   "metadata": {},
   "outputs": [
    {
     "data": {
      "image/png": "[encoded data removed]",
      "text/plain": [
       "<Figure size 640x480 with 1 Axes>"
      ]
     },
     "metadata": {},
     "output_type": "display_data"
    }
   ],
   "source": [
    "h,k,a,b=0,3,1,2\n",
    "\n",
    "fig,ax=plt.subplots(subplot_kw={'aspect':'equal'});\n",
    "ax.add_artist(\n",
    "  Ellipse(xy    =(h,k),\n",
    "          width =2*a,\n",
    "          height=2*b)\n",
    ");\n",
    "plt.scatter(0,0,color='black');\n",
    "ax.set_xlim(h-a-1,h+a+1);\n",
    "ax.set_ylim(k-b-1,k+b+1);\n",
    "\n",
    "plt.scatter( 0,1);\n",
    "plt.scatter( 0,5);\n",
    "plt.scatter(-1,3);\n",
    "plt.scatter( 1,3);"
   ]
  },
  {
   "attachments": {},
   "cell_type": "markdown",
   "metadata": {},
   "source": [
    "---"
   ]
  },
  {
   "attachments": {},
   "cell_type": "markdown",
   "metadata": {},
   "source": [
    "[EXAMPLE]\n",
    "\n",
    "$\n",
    "\\begin{aligned}\n",
    "9x^2+4y^2-54x+8y+49=0\n",
    "&\\implies\n",
    "(9x^2-54x)+(4y^2+8y)=-49\\\\\n",
    "&\\implies\n",
    "9(x^2-6x)+4(y^2+2y)=-49\\\\\n",
    "&\\implies\n",
    "9(x^2-6x+9)+4(y^2+2y+1)=-49+81+4\\\\\n",
    "&\\implies\n",
    "9(x-3)^2+4(y+1)^2=36\\\\\n",
    "&\\implies\n",
    "\\left(\\frac{x-3}{2}\\right)^2+\\left(\\frac{y+1}{3}\\right)^2=1\\\\\n",
    "\\end{aligned}\n",
    "$\n",
    "\n",
    "$(3,-1)$ center\n",
    "\n",
    "$a=2,b=3$"
   ]
  },
  {
   "cell_type": "code",
   "execution_count": 9,
   "metadata": {},
   "outputs": [
    {
     "data": {
      "image/png": "[encoded data removed]",
      "text/plain": [
       "<Figure size 640x480 with 1 Axes>"
      ]
     },
     "metadata": {},
     "output_type": "display_data"
    }
   ],
   "source": [
    "h,k,a,b=3,-1,2,3\n",
    "\n",
    "fig,ax=plt.subplots(subplot_kw={'aspect':'equal'});\n",
    "ax.add_artist(\n",
    "  Ellipse(xy    =(h,k),\n",
    "          width =2*a,\n",
    "          height=2*b)\n",
    ");\n",
    "plt.scatter(0,0,color='black');\n",
    "ax.set_xlim(h-a-1,h+a+1);\n",
    "ax.set_ylim(k-b-1,k+b+1);\n",
    "\n",
    "# plt.scatter();\n",
    "# plt.scatter();\n",
    "# plt.scatter();\n",
    "# plt.scatter();"
   ]
  },
  {
   "attachments": {},
   "cell_type": "markdown",
   "metadata": {},
   "source": [
    "---"
   ]
  },
  {
   "attachments": {},
   "cell_type": "markdown",
   "metadata": {},
   "source": [
    "## Hyperbola"
   ]
  },
  {
   "attachments": {},
   "cell_type": "markdown",
   "metadata": {},
   "source": [
    "Start with the general quadratic in two variables ignoring cross terms\n",
    "\n",
    "$\n",
    "Ax^2+Bx^2+Cx+Dy+E=0\n",
    "$\n",
    "where $A\\ne0\\lor B\\ne0$"
   ]
  },
  {
   "cell_type": "markdown",
   "metadata": {},
   "source": [
    "\n",
    "Standard Forms of a Hyperbola\n",
    "\n",
    "$\n",
    "\\begin{aligned}\n",
    "\\left(\\frac{x-h}{a}\\right)^2-\\left(\\frac{y-k}{b}\\right)^2&=1\\\\\n",
    "\\left(\\frac{y-k}{b}\\right)^2-\\left(\\frac{x-h}{a}\\right)^2&=1\\\\\n",
    "\\end{aligned}\n",
    "$"
   ]
  },
  {
   "attachments": {},
   "cell_type": "markdown",
   "metadata": {},
   "source": [
    "---"
   ]
  }
 ],
 "metadata": {
  "kernelspec": {
   "display_name": "main",
   "language": "python",
   "name": "python3"
  },
  "language_info": {
   "codemirror_mode": {
    "name": "ipython",
    "version": 3
   },
   "file_extension": ".py",
   "mimetype": "text/x-python",
   "name": "python",
   "nbconvert_exporter": "python",
   "pygments_lexer": "ipython3",
   "version": "3.10.8"
  },
  "orig_nbformat": 4,
  "vscode": {
   "interpreter": {
    "hash": "7934a2e895ecf0f9e222ea9c67d2028800f311cc59efafcc0f7e737f99c61e05"
   }
  }
 },
 "nbformat": 4,
 "nbformat_minor": 2
}
